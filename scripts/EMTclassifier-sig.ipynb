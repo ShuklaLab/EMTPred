{
 "cells": [
  {
   "cell_type": "markdown",
   "metadata": {},
   "source": [
    "## miRNA Sequencing Classification With Machine Learning\n",
    "### Author: `Bodhayan Prasad`\n",
    "Apply a classification model that can predict a miRNA's function based on it's sequence of the coding sequence alone."
   ]
  },
  {
   "cell_type": "code",
   "execution_count": 1,
   "metadata": {},
   "outputs": [],
   "source": [
    "import warnings\n",
    "warnings.filterwarnings(\"ignore\", category=FutureWarning)\n",
    "warnings.filterwarnings(\"ignore\", category=DeprecationWarning)"
   ]
  },
  {
   "cell_type": "code",
   "execution_count": 2,
   "metadata": {},
   "outputs": [],
   "source": [
    "import numpy as np\n",
    "import pandas as pd\n",
    "import matplotlib.pyplot as plt\n",
    "%matplotlib inline\n",
    "pd.set_option('display.float_format', lambda x:'%.2f' % x)"
   ]
  },
  {
   "cell_type": "code",
   "execution_count": 3,
   "metadata": {},
   "outputs": [
    {
     "data": {
      "text/html": [
       "<div>\n",
       "<style scoped>\n",
       "    .dataframe tbody tr th:only-of-type {\n",
       "        vertical-align: middle;\n",
       "    }\n",
       "\n",
       "    .dataframe tbody tr th {\n",
       "        vertical-align: top;\n",
       "    }\n",
       "\n",
       "    .dataframe thead th {\n",
       "        text-align: right;\n",
       "    }\n",
       "</style>\n",
       "<table border=\"1\" class=\"dataframe\">\n",
       "  <thead>\n",
       "    <tr style=\"text-align: right;\">\n",
       "      <th></th>\n",
       "      <th>id_mature</th>\n",
       "      <th>miRBase_mature_miRNA_ID</th>\n",
       "      <th>id_hairpin</th>\n",
       "      <th>miRBase_precursor_miRNA_ID</th>\n",
       "      <th>Type</th>\n",
       "      <th>norm_mean_MDCK</th>\n",
       "      <th>norm_mean_MDCK-Ras</th>\n",
       "      <th>Fold_Change</th>\n",
       "      <th>Log2_Fold_Change</th>\n",
       "      <th>p_value</th>\n",
       "      <th>p_adjusted_value</th>\n",
       "      <th>more</th>\n",
       "      <th>sig</th>\n",
       "      <th>bin</th>\n",
       "      <th>class</th>\n",
       "    </tr>\n",
       "  </thead>\n",
       "  <tbody>\n",
       "    <tr>\n",
       "      <th>0</th>\n",
       "      <td>cfa-let-7a</td>\n",
       "      <td>MIMAT0006594</td>\n",
       "      <td>cfa-let-7a-1</td>\n",
       "      <td>MI0007989</td>\n",
       "      <td>Canis</td>\n",
       "      <td>108436.76</td>\n",
       "      <td>144187.05</td>\n",
       "      <td>1.33</td>\n",
       "      <td>0.41</td>\n",
       "      <td>0.39</td>\n",
       "      <td>0.53</td>\n",
       "      <td>1</td>\n",
       "      <td>0</td>\n",
       "      <td>10</td>\n",
       "      <td>1</td>\n",
       "    </tr>\n",
       "    <tr>\n",
       "      <th>1</th>\n",
       "      <td>cfa-let-7a</td>\n",
       "      <td>MIMAT0006594</td>\n",
       "      <td>cfa-let-7a-2</td>\n",
       "      <td>MI0010328</td>\n",
       "      <td>Canis</td>\n",
       "      <td>108768.53</td>\n",
       "      <td>144483.13</td>\n",
       "      <td>1.33</td>\n",
       "      <td>0.41</td>\n",
       "      <td>0.39</td>\n",
       "      <td>0.53</td>\n",
       "      <td>1</td>\n",
       "      <td>0</td>\n",
       "      <td>10</td>\n",
       "      <td>1</td>\n",
       "    </tr>\n",
       "    <tr>\n",
       "      <th>2</th>\n",
       "      <td>cfa-let-7c</td>\n",
       "      <td>MIMAT0006669</td>\n",
       "      <td>cfa-let-7c</td>\n",
       "      <td>MI0008076</td>\n",
       "      <td>Canis</td>\n",
       "      <td>367.45</td>\n",
       "      <td>491.74</td>\n",
       "      <td>1.34</td>\n",
       "      <td>0.42</td>\n",
       "      <td>0.61</td>\n",
       "      <td>0.73</td>\n",
       "      <td>1</td>\n",
       "      <td>0</td>\n",
       "      <td>10</td>\n",
       "      <td>1</td>\n",
       "    </tr>\n",
       "    <tr>\n",
       "      <th>3</th>\n",
       "      <td>cfa-let-7e</td>\n",
       "      <td>MIMAT0006608</td>\n",
       "      <td>cfa-let-7e</td>\n",
       "      <td>MI0008004</td>\n",
       "      <td>Canis</td>\n",
       "      <td>8311.05</td>\n",
       "      <td>28849.52</td>\n",
       "      <td>3.47</td>\n",
       "      <td>1.80</td>\n",
       "      <td>0.00</td>\n",
       "      <td>0.01</td>\n",
       "      <td>1</td>\n",
       "      <td>1</td>\n",
       "      <td>11</td>\n",
       "      <td>3</td>\n",
       "    </tr>\n",
       "    <tr>\n",
       "      <th>4</th>\n",
       "      <td>cfa-let-7f</td>\n",
       "      <td>MIMAT0006610</td>\n",
       "      <td>cfa-let-7f</td>\n",
       "      <td>MI0008006</td>\n",
       "      <td>Canis</td>\n",
       "      <td>254701.36</td>\n",
       "      <td>277863.24</td>\n",
       "      <td>1.09</td>\n",
       "      <td>0.13</td>\n",
       "      <td>0.85</td>\n",
       "      <td>0.90</td>\n",
       "      <td>1</td>\n",
       "      <td>0</td>\n",
       "      <td>10</td>\n",
       "      <td>1</td>\n",
       "    </tr>\n",
       "  </tbody>\n",
       "</table>\n",
       "</div>"
      ],
      "text/plain": [
       "    id_mature miRBase_mature_miRNA_ID    id_hairpin  \\\n",
       "0  cfa-let-7a            MIMAT0006594  cfa-let-7a-1   \n",
       "1  cfa-let-7a            MIMAT0006594  cfa-let-7a-2   \n",
       "2  cfa-let-7c            MIMAT0006669    cfa-let-7c   \n",
       "3  cfa-let-7e            MIMAT0006608    cfa-let-7e   \n",
       "4  cfa-let-7f            MIMAT0006610    cfa-let-7f   \n",
       "\n",
       "  miRBase_precursor_miRNA_ID   Type  norm_mean_MDCK  norm_mean_MDCK-Ras  \\\n",
       "0                  MI0007989  Canis       108436.76           144187.05   \n",
       "1                  MI0010328  Canis       108768.53           144483.13   \n",
       "2                  MI0008076  Canis          367.45              491.74   \n",
       "3                  MI0008004  Canis         8311.05            28849.52   \n",
       "4                  MI0008006  Canis       254701.36           277863.24   \n",
       "\n",
       "   Fold_Change  Log2_Fold_Change  p_value  p_adjusted_value  more  sig  bin  \\\n",
       "0         1.33              0.41     0.39              0.53     1    0   10   \n",
       "1         1.33              0.41     0.39              0.53     1    0   10   \n",
       "2         1.34              0.42     0.61              0.73     1    0   10   \n",
       "3         3.47              1.80     0.00              0.01     1    1   11   \n",
       "4         1.09              0.13     0.85              0.90     1    0   10   \n",
       "\n",
       "   class  \n",
       "0      1  \n",
       "1      1  \n",
       "2      1  \n",
       "3      3  \n",
       "4      1  "
      ]
     },
     "execution_count": 3,
     "metadata": {},
     "output_type": "execute_result"
    }
   ],
   "source": [
    "rnaseq = pd.read_table('rnaseq.tab')\n",
    "rnaseq.head()"
   ]
  },
  {
   "cell_type": "code",
   "execution_count": 4,
   "metadata": {},
   "outputs": [
    {
     "data": {
      "text/plain": [
       "(189, 15)"
      ]
     },
     "execution_count": 4,
     "metadata": {},
     "output_type": "execute_result"
    }
   ],
   "source": [
    "rnaseq.shape"
   ]
  },
  {
   "cell_type": "code",
   "execution_count": 5,
   "metadata": {},
   "outputs": [
    {
     "name": "stdout",
     "output_type": "stream",
     "text": [
      "[53 47 39 50]\n"
     ]
    },
    {
     "data": {
      "image/png": "[encoded data removed]",
      "text/plain": [
       "<Figure size 864x360 with 1 Axes>"
      ]
     },
     "metadata": {
      "needs_background": "light"
     },
     "output_type": "display_data"
    }
   ],
   "source": [
    "bincount = np.bincount(rnaseq['class'])\n",
    "print(bincount)\n",
    "plt.figure(figsize=(12,5))\n",
    "plt.bar([0,1,2,3], bincount)\n",
    "plt.xticks(rotation=90)\n",
    "plt.xlabel(\"Category\")\n",
    "plt.ylabel(\"Documents\")\n",
    "plt.title(\"Newsgroups Dataset Balance\")\n",
    "plt.show()"
   ]
  },
  {
   "cell_type": "code",
   "execution_count": 6,
   "metadata": {},
   "outputs": [
    {
     "data": {
      "text/html": [
       "<div>\n",
       "<style scoped>\n",
       "    .dataframe tbody tr th:only-of-type {\n",
       "        vertical-align: middle;\n",
       "    }\n",
       "\n",
       "    .dataframe tbody tr th {\n",
       "        vertical-align: top;\n",
       "    }\n",
       "\n",
       "    .dataframe thead th {\n",
       "        text-align: right;\n",
       "    }\n",
       "</style>\n",
       "<table border=\"1\" class=\"dataframe\">\n",
       "  <thead>\n",
       "    <tr style=\"text-align: right;\">\n",
       "      <th></th>\n",
       "      <th>id_hairpin</th>\n",
       "      <th>seq_hairpin</th>\n",
       "    </tr>\n",
       "  </thead>\n",
       "  <tbody>\n",
       "    <tr>\n",
       "      <th>0</th>\n",
       "      <td>cel-let-7</td>\n",
       "      <td>UACACUGUGGAUCCGGUGAGGUAGUAGGUUGUAUAGUUUGGAAUAU...</td>\n",
       "    </tr>\n",
       "    <tr>\n",
       "      <th>1</th>\n",
       "      <td>cel-lin-4</td>\n",
       "      <td>AUGCUUCCGGCCUGUUCCCUGAGACCUCAAGUGUGAGUGUACUAUU...</td>\n",
       "    </tr>\n",
       "    <tr>\n",
       "      <th>2</th>\n",
       "      <td>cel-mir-1</td>\n",
       "      <td>AAAGUGACCGUACCGAGCUGCAUACUUCCUUACAUGCCCAUACUAU...</td>\n",
       "    </tr>\n",
       "    <tr>\n",
       "      <th>3</th>\n",
       "      <td>cel-mir-2</td>\n",
       "      <td>UAAACAGUAUACAGAAAGCCAUCAAAGCGGUGGUUGAUGUGUUGCA...</td>\n",
       "    </tr>\n",
       "    <tr>\n",
       "      <th>4</th>\n",
       "      <td>cel-mir-34</td>\n",
       "      <td>CGGACAAUGCUCGAGAGGCAGUGUGGUUAGCUGGUUGCAUAUUUCC...</td>\n",
       "    </tr>\n",
       "  </tbody>\n",
       "</table>\n",
       "</div>"
      ],
      "text/plain": [
       "   id_hairpin                                        seq_hairpin\n",
       "0   cel-let-7  UACACUGUGGAUCCGGUGAGGUAGUAGGUUGUAUAGUUUGGAAUAU...\n",
       "1   cel-lin-4  AUGCUUCCGGCCUGUUCCCUGAGACCUCAAGUGUGAGUGUACUAUU...\n",
       "2   cel-mir-1  AAAGUGACCGUACCGAGCUGCAUACUUCCUUACAUGCCCAUACUAU...\n",
       "3   cel-mir-2  UAAACAGUAUACAGAAAGCCAUCAAAGCGGUGGUUGAUGUGUUGCA...\n",
       "4  cel-mir-34  CGGACAAUGCUCGAGAGGCAGUGUGGUUAGCUGGUUGCAUAUUUCC..."
      ]
     },
     "execution_count": 6,
     "metadata": {},
     "output_type": "execute_result"
    }
   ],
   "source": [
    "hairpin = pd.read_table('hairpin.tab')\n",
    "hairpin.head()"
   ]
  },
  {
   "cell_type": "code",
   "execution_count": 7,
   "metadata": {},
   "outputs": [
    {
     "data": {
      "text/html": [
       "<div>\n",
       "<style scoped>\n",
       "    .dataframe tbody tr th:only-of-type {\n",
       "        vertical-align: middle;\n",
       "    }\n",
       "\n",
       "    .dataframe tbody tr th {\n",
       "        vertical-align: top;\n",
       "    }\n",
       "\n",
       "    .dataframe thead th {\n",
       "        text-align: right;\n",
       "    }\n",
       "</style>\n",
       "<table border=\"1\" class=\"dataframe\">\n",
       "  <thead>\n",
       "    <tr style=\"text-align: right;\">\n",
       "      <th></th>\n",
       "      <th>id_mature</th>\n",
       "      <th>seq_mature</th>\n",
       "    </tr>\n",
       "  </thead>\n",
       "  <tbody>\n",
       "    <tr>\n",
       "      <th>0</th>\n",
       "      <td>cel-let-7-5p</td>\n",
       "      <td>UGAGGUAGUAGGUUGUAUAGUU</td>\n",
       "    </tr>\n",
       "    <tr>\n",
       "      <th>1</th>\n",
       "      <td>cel-let-7-3p</td>\n",
       "      <td>CUAUGCAAUUUUCUACCUUACC</td>\n",
       "    </tr>\n",
       "    <tr>\n",
       "      <th>2</th>\n",
       "      <td>cel-lin-4-5p</td>\n",
       "      <td>UCCCUGAGACCUCAAGUGUGA</td>\n",
       "    </tr>\n",
       "    <tr>\n",
       "      <th>3</th>\n",
       "      <td>cel-lin-4-3p</td>\n",
       "      <td>ACACCUGGGCUCUCCGGGUACC</td>\n",
       "    </tr>\n",
       "    <tr>\n",
       "      <th>4</th>\n",
       "      <td>cel-miR-1-5p</td>\n",
       "      <td>CAUACUUCCUUACAUGCCCAUA</td>\n",
       "    </tr>\n",
       "  </tbody>\n",
       "</table>\n",
       "</div>"
      ],
      "text/plain": [
       "      id_mature              seq_mature\n",
       "0  cel-let-7-5p  UGAGGUAGUAGGUUGUAUAGUU\n",
       "1  cel-let-7-3p  CUAUGCAAUUUUCUACCUUACC\n",
       "2  cel-lin-4-5p   UCCCUGAGACCUCAAGUGUGA\n",
       "3  cel-lin-4-3p  ACACCUGGGCUCUCCGGGUACC\n",
       "4  cel-miR-1-5p  CAUACUUCCUUACAUGCCCAUA"
      ]
     },
     "execution_count": 7,
     "metadata": {},
     "output_type": "execute_result"
    }
   ],
   "source": [
    "mature = pd.read_table('mature.tab')\n",
    "mature.head()"
   ]
  },
  {
   "cell_type": "code",
   "execution_count": 8,
   "metadata": {},
   "outputs": [
    {
     "data": {
      "text/html": [
       "<div>\n",
       "<style scoped>\n",
       "    .dataframe tbody tr th:only-of-type {\n",
       "        vertical-align: middle;\n",
       "    }\n",
       "\n",
       "    .dataframe tbody tr th {\n",
       "        vertical-align: top;\n",
       "    }\n",
       "\n",
       "    .dataframe thead th {\n",
       "        text-align: right;\n",
       "    }\n",
       "</style>\n",
       "<table border=\"1\" class=\"dataframe\">\n",
       "  <thead>\n",
       "    <tr style=\"text-align: right;\">\n",
       "      <th></th>\n",
       "      <th>id_hairpin</th>\n",
       "      <th>seq_hairpin</th>\n",
       "      <th>id_mature</th>\n",
       "      <th>miRBase_mature_miRNA_ID</th>\n",
       "      <th>miRBase_precursor_miRNA_ID</th>\n",
       "      <th>Type</th>\n",
       "      <th>norm_mean_MDCK</th>\n",
       "      <th>norm_mean_MDCK-Ras</th>\n",
       "      <th>Fold_Change</th>\n",
       "      <th>Log2_Fold_Change</th>\n",
       "      <th>p_value</th>\n",
       "      <th>p_adjusted_value</th>\n",
       "      <th>more</th>\n",
       "      <th>sig</th>\n",
       "      <th>bin</th>\n",
       "      <th>class</th>\n",
       "    </tr>\n",
       "  </thead>\n",
       "  <tbody>\n",
       "    <tr>\n",
       "      <th>0</th>\n",
       "      <td>cfa-mir-429</td>\n",
       "      <td>AGCCUGCUGAUGGGCGUCUUACCAGACACGGUUAGAUCUGGGUUCU...</td>\n",
       "      <td>cfa-miR-429</td>\n",
       "      <td>MIMAT0001539</td>\n",
       "      <td>MI0001644</td>\n",
       "      <td>Canis</td>\n",
       "      <td>10044.39</td>\n",
       "      <td>1796.64</td>\n",
       "      <td>0.18</td>\n",
       "      <td>-2.48</td>\n",
       "      <td>0.00</td>\n",
       "      <td>0.00</td>\n",
       "      <td>0</td>\n",
       "      <td>1</td>\n",
       "      <td>1</td>\n",
       "      <td>2</td>\n",
       "    </tr>\n",
       "    <tr>\n",
       "      <th>1</th>\n",
       "      <td>cfa-mir-365-2</td>\n",
       "      <td>AGAGUGUUCAAGGACAGCAAGAAAAAUGAGGGACUUUCAGGGGCAG...</td>\n",
       "      <td>cfa-miR-365</td>\n",
       "      <td>MIMAT0001540</td>\n",
       "      <td>MI0001647</td>\n",
       "      <td>Canis</td>\n",
       "      <td>1304.97</td>\n",
       "      <td>3422.40</td>\n",
       "      <td>2.62</td>\n",
       "      <td>1.39</td>\n",
       "      <td>0.00</td>\n",
       "      <td>0.00</td>\n",
       "      <td>1</td>\n",
       "      <td>1</td>\n",
       "      <td>11</td>\n",
       "      <td>3</td>\n",
       "    </tr>\n",
       "    <tr>\n",
       "      <th>2</th>\n",
       "      <td>cfa-mir-450a</td>\n",
       "      <td>GAAAGAUGCUGAACUGUUUUUGCGAUGUGUUCCUAAUAUGCAGUAU...</td>\n",
       "      <td>cfa-miR-450a</td>\n",
       "      <td>MIMAT0001548</td>\n",
       "      <td>MI0001655</td>\n",
       "      <td>Canis</td>\n",
       "      <td>266.21</td>\n",
       "      <td>149.17</td>\n",
       "      <td>0.56</td>\n",
       "      <td>-0.84</td>\n",
       "      <td>0.03</td>\n",
       "      <td>0.07</td>\n",
       "      <td>0</td>\n",
       "      <td>0</td>\n",
       "      <td>0</td>\n",
       "      <td>0</td>\n",
       "    </tr>\n",
       "    <tr>\n",
       "      <th>3</th>\n",
       "      <td>cfa-mir-365-1</td>\n",
       "      <td>ACCGCAGGGAAAAUGAGGGACUUUUGGGGGCAGAUGUGUUUCCAUU...</td>\n",
       "      <td>cfa-miR-365</td>\n",
       "      <td>MIMAT0001540</td>\n",
       "      <td>MI0001657</td>\n",
       "      <td>Canis</td>\n",
       "      <td>1304.97</td>\n",
       "      <td>3422.40</td>\n",
       "      <td>2.62</td>\n",
       "      <td>1.39</td>\n",
       "      <td>0.00</td>\n",
       "      <td>0.00</td>\n",
       "      <td>1</td>\n",
       "      <td>1</td>\n",
       "      <td>11</td>\n",
       "      <td>3</td>\n",
       "    </tr>\n",
       "    <tr>\n",
       "      <th>4</th>\n",
       "      <td>cfa-let-7a-1</td>\n",
       "      <td>UGAGGUAGUAGGUUGUAUAGUUUGGGGCUCUGCCCUGCUCUGGGUA...</td>\n",
       "      <td>cfa-let-7a</td>\n",
       "      <td>MIMAT0006594</td>\n",
       "      <td>MI0007989</td>\n",
       "      <td>Canis</td>\n",
       "      <td>108436.76</td>\n",
       "      <td>144187.05</td>\n",
       "      <td>1.33</td>\n",
       "      <td>0.41</td>\n",
       "      <td>0.39</td>\n",
       "      <td>0.53</td>\n",
       "      <td>1</td>\n",
       "      <td>0</td>\n",
       "      <td>10</td>\n",
       "      <td>1</td>\n",
       "    </tr>\n",
       "  </tbody>\n",
       "</table>\n",
       "</div>"
      ],
      "text/plain": [
       "      id_hairpin                                        seq_hairpin  \\\n",
       "0    cfa-mir-429  AGCCUGCUGAUGGGCGUCUUACCAGACACGGUUAGAUCUGGGUUCU...   \n",
       "1  cfa-mir-365-2  AGAGUGUUCAAGGACAGCAAGAAAAAUGAGGGACUUUCAGGGGCAG...   \n",
       "2   cfa-mir-450a  GAAAGAUGCUGAACUGUUUUUGCGAUGUGUUCCUAAUAUGCAGUAU...   \n",
       "3  cfa-mir-365-1  ACCGCAGGGAAAAUGAGGGACUUUUGGGGGCAGAUGUGUUUCCAUU...   \n",
       "4   cfa-let-7a-1  UGAGGUAGUAGGUUGUAUAGUUUGGGGCUCUGCCCUGCUCUGGGUA...   \n",
       "\n",
       "      id_mature miRBase_mature_miRNA_ID miRBase_precursor_miRNA_ID   Type  \\\n",
       "0   cfa-miR-429            MIMAT0001539                  MI0001644  Canis   \n",
       "1   cfa-miR-365            MIMAT0001540                  MI0001647  Canis   \n",
       "2  cfa-miR-450a            MIMAT0001548                  MI0001655  Canis   \n",
       "3   cfa-miR-365            MIMAT0001540                  MI0001657  Canis   \n",
       "4    cfa-let-7a            MIMAT0006594                  MI0007989  Canis   \n",
       "\n",
       "   norm_mean_MDCK  norm_mean_MDCK-Ras  Fold_Change  Log2_Fold_Change  p_value  \\\n",
       "0        10044.39             1796.64         0.18             -2.48     0.00   \n",
       "1         1304.97             3422.40         2.62              1.39     0.00   \n",
       "2          266.21              149.17         0.56             -0.84     0.03   \n",
       "3         1304.97             3422.40         2.62              1.39     0.00   \n",
       "4       108436.76           144187.05         1.33              0.41     0.39   \n",
       "\n",
       "   p_adjusted_value  more  sig  bin  class  \n",
       "0              0.00     0    1    1      2  \n",
       "1              0.00     1    1   11      3  \n",
       "2              0.07     0    0    0      0  \n",
       "3              0.00     1    1   11      3  \n",
       "4              0.53     1    0   10      1  "
      ]
     },
     "execution_count": 8,
     "metadata": {},
     "output_type": "execute_result"
    }
   ],
   "source": [
    "df_hairpin=pd.merge(hairpin, rnaseq)\n",
    "df_hairpin.head()"
   ]
  },
  {
   "cell_type": "code",
   "execution_count": 9,
   "metadata": {},
   "outputs": [
    {
     "data": {
      "text/plain": [
       "(189, 16)"
      ]
     },
     "execution_count": 9,
     "metadata": {},
     "output_type": "execute_result"
    }
   ],
   "source": [
    "df_hairpin.shape"
   ]
  },
  {
   "cell_type": "code",
   "execution_count": 10,
   "metadata": {},
   "outputs": [
    {
     "data": {
      "text/html": [
       "<div>\n",
       "<style scoped>\n",
       "    .dataframe tbody tr th:only-of-type {\n",
       "        vertical-align: middle;\n",
       "    }\n",
       "\n",
       "    .dataframe tbody tr th {\n",
       "        vertical-align: top;\n",
       "    }\n",
       "\n",
       "    .dataframe thead th {\n",
       "        text-align: right;\n",
       "    }\n",
       "</style>\n",
       "<table border=\"1\" class=\"dataframe\">\n",
       "  <thead>\n",
       "    <tr style=\"text-align: right;\">\n",
       "      <th></th>\n",
       "      <th>id_mature</th>\n",
       "      <th>seq_mature</th>\n",
       "      <th>miRBase_mature_miRNA_ID</th>\n",
       "      <th>id_hairpin</th>\n",
       "      <th>miRBase_precursor_miRNA_ID</th>\n",
       "      <th>Type</th>\n",
       "      <th>norm_mean_MDCK</th>\n",
       "      <th>norm_mean_MDCK-Ras</th>\n",
       "      <th>Fold_Change</th>\n",
       "      <th>Log2_Fold_Change</th>\n",
       "      <th>p_value</th>\n",
       "      <th>p_adjusted_value</th>\n",
       "      <th>more</th>\n",
       "      <th>sig</th>\n",
       "      <th>bin</th>\n",
       "      <th>class</th>\n",
       "    </tr>\n",
       "  </thead>\n",
       "  <tbody>\n",
       "    <tr>\n",
       "      <th>0</th>\n",
       "      <td>cfa-miR-429</td>\n",
       "      <td>UAAUACUGUCUGGUAAUGCCGU</td>\n",
       "      <td>MIMAT0001539</td>\n",
       "      <td>cfa-mir-429</td>\n",
       "      <td>MI0001644</td>\n",
       "      <td>Canis</td>\n",
       "      <td>10044.39</td>\n",
       "      <td>1796.64</td>\n",
       "      <td>0.18</td>\n",
       "      <td>-2.48</td>\n",
       "      <td>0.00</td>\n",
       "      <td>0.00</td>\n",
       "      <td>0</td>\n",
       "      <td>1</td>\n",
       "      <td>1</td>\n",
       "      <td>2</td>\n",
       "    </tr>\n",
       "    <tr>\n",
       "      <th>1</th>\n",
       "      <td>cfa-miR-365</td>\n",
       "      <td>UAAUGCCCCUAAAAAUCCUUAU</td>\n",
       "      <td>MIMAT0001540</td>\n",
       "      <td>cfa-mir-365-1</td>\n",
       "      <td>MI0001657</td>\n",
       "      <td>Canis</td>\n",
       "      <td>1304.97</td>\n",
       "      <td>3422.40</td>\n",
       "      <td>2.62</td>\n",
       "      <td>1.39</td>\n",
       "      <td>0.00</td>\n",
       "      <td>0.00</td>\n",
       "      <td>1</td>\n",
       "      <td>1</td>\n",
       "      <td>11</td>\n",
       "      <td>3</td>\n",
       "    </tr>\n",
       "    <tr>\n",
       "      <th>2</th>\n",
       "      <td>cfa-miR-365</td>\n",
       "      <td>UAAUGCCCCUAAAAAUCCUUAU</td>\n",
       "      <td>MIMAT0001540</td>\n",
       "      <td>cfa-mir-365-2</td>\n",
       "      <td>MI0001647</td>\n",
       "      <td>Canis</td>\n",
       "      <td>1304.97</td>\n",
       "      <td>3422.40</td>\n",
       "      <td>2.62</td>\n",
       "      <td>1.39</td>\n",
       "      <td>0.00</td>\n",
       "      <td>0.00</td>\n",
       "      <td>1</td>\n",
       "      <td>1</td>\n",
       "      <td>11</td>\n",
       "      <td>3</td>\n",
       "    </tr>\n",
       "    <tr>\n",
       "      <th>3</th>\n",
       "      <td>cfa-miR-450a</td>\n",
       "      <td>UUUUUGCGAUGUGUUCCUAAUA</td>\n",
       "      <td>MIMAT0001548</td>\n",
       "      <td>cfa-mir-450a</td>\n",
       "      <td>MI0001655</td>\n",
       "      <td>Canis</td>\n",
       "      <td>266.21</td>\n",
       "      <td>149.17</td>\n",
       "      <td>0.56</td>\n",
       "      <td>-0.84</td>\n",
       "      <td>0.03</td>\n",
       "      <td>0.07</td>\n",
       "      <td>0</td>\n",
       "      <td>0</td>\n",
       "      <td>0</td>\n",
       "      <td>0</td>\n",
       "    </tr>\n",
       "    <tr>\n",
       "      <th>4</th>\n",
       "      <td>cfa-let-7a</td>\n",
       "      <td>UGAGGUAGUAGGUUGUAUAGUU</td>\n",
       "      <td>MIMAT0006594</td>\n",
       "      <td>cfa-let-7a-1</td>\n",
       "      <td>MI0007989</td>\n",
       "      <td>Canis</td>\n",
       "      <td>108436.76</td>\n",
       "      <td>144187.05</td>\n",
       "      <td>1.33</td>\n",
       "      <td>0.41</td>\n",
       "      <td>0.39</td>\n",
       "      <td>0.53</td>\n",
       "      <td>1</td>\n",
       "      <td>0</td>\n",
       "      <td>10</td>\n",
       "      <td>1</td>\n",
       "    </tr>\n",
       "  </tbody>\n",
       "</table>\n",
       "</div>"
      ],
      "text/plain": [
       "      id_mature              seq_mature miRBase_mature_miRNA_ID  \\\n",
       "0   cfa-miR-429  UAAUACUGUCUGGUAAUGCCGU            MIMAT0001539   \n",
       "1   cfa-miR-365  UAAUGCCCCUAAAAAUCCUUAU            MIMAT0001540   \n",
       "2   cfa-miR-365  UAAUGCCCCUAAAAAUCCUUAU            MIMAT0001540   \n",
       "3  cfa-miR-450a  UUUUUGCGAUGUGUUCCUAAUA            MIMAT0001548   \n",
       "4    cfa-let-7a  UGAGGUAGUAGGUUGUAUAGUU            MIMAT0006594   \n",
       "\n",
       "      id_hairpin miRBase_precursor_miRNA_ID   Type  norm_mean_MDCK  \\\n",
       "0    cfa-mir-429                  MI0001644  Canis        10044.39   \n",
       "1  cfa-mir-365-1                  MI0001657  Canis         1304.97   \n",
       "2  cfa-mir-365-2                  MI0001647  Canis         1304.97   \n",
       "3   cfa-mir-450a                  MI0001655  Canis          266.21   \n",
       "4   cfa-let-7a-1                  MI0007989  Canis       108436.76   \n",
       "\n",
       "   norm_mean_MDCK-Ras  Fold_Change  Log2_Fold_Change  p_value  \\\n",
       "0             1796.64         0.18             -2.48     0.00   \n",
       "1             3422.40         2.62              1.39     0.00   \n",
       "2             3422.40         2.62              1.39     0.00   \n",
       "3              149.17         0.56             -0.84     0.03   \n",
       "4           144187.05         1.33              0.41     0.39   \n",
       "\n",
       "   p_adjusted_value  more  sig  bin  class  \n",
       "0              0.00     0    1    1      2  \n",
       "1              0.00     1    1   11      3  \n",
       "2              0.00     1    1   11      3  \n",
       "3              0.07     0    0    0      0  \n",
       "4              0.53     1    0   10      1  "
      ]
     },
     "execution_count": 10,
     "metadata": {},
     "output_type": "execute_result"
    }
   ],
   "source": [
    "df_mature=pd.merge(mature, rnaseq)\n",
    "df_mature.head()"
   ]
  },
  {
   "cell_type": "code",
   "execution_count": 11,
   "metadata": {},
   "outputs": [
    {
     "data": {
      "text/plain": [
       "(189, 16)"
      ]
     },
     "execution_count": 11,
     "metadata": {},
     "output_type": "execute_result"
    }
   ],
   "source": [
    "df_mature.shape"
   ]
  },
  {
   "cell_type": "code",
   "execution_count": 12,
   "metadata": {},
   "outputs": [
    {
     "data": {
      "text/html": [
       "<div>\n",
       "<style scoped>\n",
       "    .dataframe tbody tr th:only-of-type {\n",
       "        vertical-align: middle;\n",
       "    }\n",
       "\n",
       "    .dataframe tbody tr th {\n",
       "        vertical-align: top;\n",
       "    }\n",
       "\n",
       "    .dataframe thead th {\n",
       "        text-align: right;\n",
       "    }\n",
       "</style>\n",
       "<table border=\"1\" class=\"dataframe\">\n",
       "  <thead>\n",
       "    <tr style=\"text-align: right;\">\n",
       "      <th></th>\n",
       "      <th>sequence</th>\n",
       "      <th>class</th>\n",
       "    </tr>\n",
       "  </thead>\n",
       "  <tbody>\n",
       "    <tr>\n",
       "      <th>0</th>\n",
       "      <td>AGCCUGCUGAUGGGCGUCUUACCAGACACGGUUAGAUCUGGGUUCU...</td>\n",
       "      <td>1</td>\n",
       "    </tr>\n",
       "    <tr>\n",
       "      <th>1</th>\n",
       "      <td>AGAGUGUUCAAGGACAGCAAGAAAAAUGAGGGACUUUCAGGGGCAG...</td>\n",
       "      <td>1</td>\n",
       "    </tr>\n",
       "    <tr>\n",
       "      <th>2</th>\n",
       "      <td>GAAAGAUGCUGAACUGUUUUUGCGAUGUGUUCCUAAUAUGCAGUAU...</td>\n",
       "      <td>0</td>\n",
       "    </tr>\n",
       "    <tr>\n",
       "      <th>3</th>\n",
       "      <td>ACCGCAGGGAAAAUGAGGGACUUUUGGGGGCAGAUGUGUUUCCAUU...</td>\n",
       "      <td>1</td>\n",
       "    </tr>\n",
       "    <tr>\n",
       "      <th>4</th>\n",
       "      <td>UGAGGUAGUAGGUUGUAUAGUUUGGGGCUCUGCCCUGCUCUGGGUA...</td>\n",
       "      <td>0</td>\n",
       "    </tr>\n",
       "  </tbody>\n",
       "</table>\n",
       "</div>"
      ],
      "text/plain": [
       "                                            sequence  class\n",
       "0  AGCCUGCUGAUGGGCGUCUUACCAGACACGGUUAGAUCUGGGUUCU...      1\n",
       "1  AGAGUGUUCAAGGACAGCAAGAAAAAUGAGGGACUUUCAGGGGCAG...      1\n",
       "2  GAAAGAUGCUGAACUGUUUUUGCGAUGUGUUCCUAAUAUGCAGUAU...      0\n",
       "3  ACCGCAGGGAAAAUGAGGGACUUUUGGGGGCAGAUGUGUUUCCAUU...      1\n",
       "4  UGAGGUAGUAGGUUGUAUAGUUUGGGGCUCUGCCCUGCUCUGGGUA...      0"
      ]
     },
     "execution_count": 12,
     "metadata": {},
     "output_type": "execute_result"
    }
   ],
   "source": [
    "hairpin_data=df_hairpin[['seq_hairpin','sig']]\n",
    "hairpin_data.columns = ['sequence','class']\n",
    "hairpin_data.head()"
   ]
  },
  {
   "cell_type": "code",
   "execution_count": 13,
   "metadata": {},
   "outputs": [
    {
     "name": "stderr",
     "output_type": "stream",
     "text": [
      "/var/folders/91/plww02hn02dcgq2mr321qy9w0000gn/T/ipykernel_20628/3153881646.py:1: SettingWithCopyWarning: \n",
      "A value is trying to be set on a copy of a slice from a DataFrame.\n",
      "Try using .loc[row_indexer,col_indexer] = value instead\n",
      "\n",
      "See the caveats in the documentation: https://pandas.pydata.org/pandas-docs/stable/user_guide/indexing.html#returning-a-view-versus-a-copy\n",
      "  hairpin_data['A'] = hairpin_data.apply(lambda row: row.sequence.count('A')/len(row.sequence), axis=1)\n",
      "/var/folders/91/plww02hn02dcgq2mr321qy9w0000gn/T/ipykernel_20628/3153881646.py:2: SettingWithCopyWarning: \n",
      "A value is trying to be set on a copy of a slice from a DataFrame.\n",
      "Try using .loc[row_indexer,col_indexer] = value instead\n",
      "\n",
      "See the caveats in the documentation: https://pandas.pydata.org/pandas-docs/stable/user_guide/indexing.html#returning-a-view-versus-a-copy\n",
      "  hairpin_data['U'] = hairpin_data.apply(lambda row: row.sequence.count('U')/len(row.sequence), axis=1)\n",
      "/var/folders/91/plww02hn02dcgq2mr321qy9w0000gn/T/ipykernel_20628/3153881646.py:3: SettingWithCopyWarning: \n",
      "A value is trying to be set on a copy of a slice from a DataFrame.\n",
      "Try using .loc[row_indexer,col_indexer] = value instead\n",
      "\n",
      "See the caveats in the documentation: https://pandas.pydata.org/pandas-docs/stable/user_guide/indexing.html#returning-a-view-versus-a-copy\n",
      "  hairpin_data['G'] = hairpin_data.apply(lambda row: row.sequence.count('G')/len(row.sequence), axis=1)\n",
      "/var/folders/91/plww02hn02dcgq2mr321qy9w0000gn/T/ipykernel_20628/3153881646.py:4: SettingWithCopyWarning: \n",
      "A value is trying to be set on a copy of a slice from a DataFrame.\n",
      "Try using .loc[row_indexer,col_indexer] = value instead\n",
      "\n",
      "See the caveats in the documentation: https://pandas.pydata.org/pandas-docs/stable/user_guide/indexing.html#returning-a-view-versus-a-copy\n",
      "  hairpin_data['C'] = hairpin_data.apply(lambda row: row.sequence.count('C')/len(row.sequence), axis=1)\n",
      "/var/folders/91/plww02hn02dcgq2mr321qy9w0000gn/T/ipykernel_20628/3153881646.py:5: SettingWithCopyWarning: \n",
      "A value is trying to be set on a copy of a slice from a DataFrame.\n",
      "Try using .loc[row_indexer,col_indexer] = value instead\n",
      "\n",
      "See the caveats in the documentation: https://pandas.pydata.org/pandas-docs/stable/user_guide/indexing.html#returning-a-view-versus-a-copy\n",
      "  hairpin_data['GC'] = hairpin_data.apply(lambda row: row.G+row.C, axis=1)\n"
     ]
    },
    {
     "data": {
      "text/html": [
       "<div>\n",
       "<style scoped>\n",
       "    .dataframe tbody tr th:only-of-type {\n",
       "        vertical-align: middle;\n",
       "    }\n",
       "\n",
       "    .dataframe tbody tr th {\n",
       "        vertical-align: top;\n",
       "    }\n",
       "\n",
       "    .dataframe thead th {\n",
       "        text-align: right;\n",
       "    }\n",
       "</style>\n",
       "<table border=\"1\" class=\"dataframe\">\n",
       "  <thead>\n",
       "    <tr style=\"text-align: right;\">\n",
       "      <th></th>\n",
       "      <th>sequence</th>\n",
       "      <th>class</th>\n",
       "      <th>A</th>\n",
       "      <th>U</th>\n",
       "      <th>G</th>\n",
       "      <th>C</th>\n",
       "      <th>GC</th>\n",
       "    </tr>\n",
       "  </thead>\n",
       "  <tbody>\n",
       "    <tr>\n",
       "      <th>0</th>\n",
       "      <td>AGCCUGCUGAUGGGCGUCUUACCAGACACGGUUAGAUCUGGGUUCU...</td>\n",
       "      <td>1</td>\n",
       "      <td>0.18</td>\n",
       "      <td>0.31</td>\n",
       "      <td>0.28</td>\n",
       "      <td>0.24</td>\n",
       "      <td>0.52</td>\n",
       "    </tr>\n",
       "    <tr>\n",
       "      <th>1</th>\n",
       "      <td>AGAGUGUUCAAGGACAGCAAGAAAAAUGAGGGACUUUCAGGGGCAG...</td>\n",
       "      <td>1</td>\n",
       "      <td>0.27</td>\n",
       "      <td>0.28</td>\n",
       "      <td>0.26</td>\n",
       "      <td>0.19</td>\n",
       "      <td>0.45</td>\n",
       "    </tr>\n",
       "    <tr>\n",
       "      <th>2</th>\n",
       "      <td>GAAAGAUGCUGAACUGUUUUUGCGAUGUGUUCCUAAUAUGCAGUAU...</td>\n",
       "      <td>0</td>\n",
       "      <td>0.27</td>\n",
       "      <td>0.37</td>\n",
       "      <td>0.23</td>\n",
       "      <td>0.12</td>\n",
       "      <td>0.35</td>\n",
       "    </tr>\n",
       "    <tr>\n",
       "      <th>3</th>\n",
       "      <td>ACCGCAGGGAAAAUGAGGGACUUUUGGGGGCAGAUGUGUUUCCAUU...</td>\n",
       "      <td>1</td>\n",
       "      <td>0.26</td>\n",
       "      <td>0.29</td>\n",
       "      <td>0.22</td>\n",
       "      <td>0.23</td>\n",
       "      <td>0.45</td>\n",
       "    </tr>\n",
       "    <tr>\n",
       "      <th>4</th>\n",
       "      <td>UGAGGUAGUAGGUUGUAUAGUUUGGGGCUCUGCCCUGCUCUGGGUA...</td>\n",
       "      <td>0</td>\n",
       "      <td>0.17</td>\n",
       "      <td>0.36</td>\n",
       "      <td>0.26</td>\n",
       "      <td>0.20</td>\n",
       "      <td>0.46</td>\n",
       "    </tr>\n",
       "  </tbody>\n",
       "</table>\n",
       "</div>"
      ],
      "text/plain": [
       "                                            sequence  class    A    U    G  \\\n",
       "0  AGCCUGCUGAUGGGCGUCUUACCAGACACGGUUAGAUCUGGGUUCU...      1 0.18 0.31 0.28   \n",
       "1  AGAGUGUUCAAGGACAGCAAGAAAAAUGAGGGACUUUCAGGGGCAG...      1 0.27 0.28 0.26   \n",
       "2  GAAAGAUGCUGAACUGUUUUUGCGAUGUGUUCCUAAUAUGCAGUAU...      0 0.27 0.37 0.23   \n",
       "3  ACCGCAGGGAAAAUGAGGGACUUUUGGGGGCAGAUGUGUUUCCAUU...      1 0.26 0.29 0.22   \n",
       "4  UGAGGUAGUAGGUUGUAUAGUUUGGGGCUCUGCCCUGCUCUGGGUA...      0 0.17 0.36 0.26   \n",
       "\n",
       "     C   GC  \n",
       "0 0.24 0.52  \n",
       "1 0.19 0.45  \n",
       "2 0.12 0.35  \n",
       "3 0.23 0.45  \n",
       "4 0.20 0.46  "
      ]
     },
     "execution_count": 13,
     "metadata": {},
     "output_type": "execute_result"
    }
   ],
   "source": [
    "hairpin_data['A'] = hairpin_data.apply(lambda row: row.sequence.count('A')/len(row.sequence), axis=1)\n",
    "hairpin_data['U'] = hairpin_data.apply(lambda row: row.sequence.count('U')/len(row.sequence), axis=1)\n",
    "hairpin_data['G'] = hairpin_data.apply(lambda row: row.sequence.count('G')/len(row.sequence), axis=1)\n",
    "hairpin_data['C'] = hairpin_data.apply(lambda row: row.sequence.count('C')/len(row.sequence), axis=1)\n",
    "hairpin_data['GC'] = hairpin_data.apply(lambda row: row.G+row.C, axis=1)\n",
    "hairpin_data.head()"
   ]
  },
  {
   "cell_type": "code",
   "execution_count": 14,
   "metadata": {},
   "outputs": [
    {
     "data": {
      "image/png": "[encoded data removed]",
      "text/plain": [
       "<Figure size 432x288 with 1 Axes>"
      ]
     },
     "metadata": {
      "needs_background": "light"
     },
     "output_type": "display_data"
    }
   ],
   "source": [
    "import seaborn as sns\n",
    "ax = sns.boxplot(x=\"class\", y=\"A\", data=hairpin_data, whis=np.inf, )\n",
    "ax = sns.swarmplot(x=\"class\", y=\"A\", data=hairpin_data, color=\".2\")"
   ]
  },
  {
   "cell_type": "code",
   "execution_count": 15,
   "metadata": {},
   "outputs": [
    {
     "data": {
      "text/html": [
       "<div>\n",
       "<style scoped>\n",
       "    .dataframe tbody tr th:only-of-type {\n",
       "        vertical-align: middle;\n",
       "    }\n",
       "\n",
       "    .dataframe tbody tr th {\n",
       "        vertical-align: top;\n",
       "    }\n",
       "\n",
       "    .dataframe thead th {\n",
       "        text-align: right;\n",
       "    }\n",
       "</style>\n",
       "<table border=\"1\" class=\"dataframe\">\n",
       "  <thead>\n",
       "    <tr style=\"text-align: right;\">\n",
       "      <th></th>\n",
       "      <th>A</th>\n",
       "      <th>U</th>\n",
       "      <th>G</th>\n",
       "      <th>C</th>\n",
       "      <th>GC</th>\n",
       "    </tr>\n",
       "    <tr>\n",
       "      <th>class</th>\n",
       "      <th></th>\n",
       "      <th></th>\n",
       "      <th></th>\n",
       "      <th></th>\n",
       "      <th></th>\n",
       "    </tr>\n",
       "  </thead>\n",
       "  <tbody>\n",
       "    <tr>\n",
       "      <th>0</th>\n",
       "      <td>0.24</td>\n",
       "      <td>0.29</td>\n",
       "      <td>0.25</td>\n",
       "      <td>0.22</td>\n",
       "      <td>0.47</td>\n",
       "    </tr>\n",
       "    <tr>\n",
       "      <th>1</th>\n",
       "      <td>0.23</td>\n",
       "      <td>0.29</td>\n",
       "      <td>0.26</td>\n",
       "      <td>0.22</td>\n",
       "      <td>0.48</td>\n",
       "    </tr>\n",
       "  </tbody>\n",
       "</table>\n",
       "</div>"
      ],
      "text/plain": [
       "         A    U    G    C   GC\n",
       "class                         \n",
       "0     0.24 0.29 0.25 0.22 0.47\n",
       "1     0.23 0.29 0.26 0.22 0.48"
      ]
     },
     "execution_count": 15,
     "metadata": {},
     "output_type": "execute_result"
    }
   ],
   "source": [
    "hairpin_data.groupby('class').mean()"
   ]
  },
  {
   "cell_type": "code",
   "execution_count": 16,
   "metadata": {},
   "outputs": [
    {
     "data": {
      "text/html": [
       "<div>\n",
       "<style scoped>\n",
       "    .dataframe tbody tr th:only-of-type {\n",
       "        vertical-align: middle;\n",
       "    }\n",
       "\n",
       "    .dataframe tbody tr th {\n",
       "        vertical-align: top;\n",
       "    }\n",
       "\n",
       "    .dataframe thead th {\n",
       "        text-align: right;\n",
       "    }\n",
       "</style>\n",
       "<table border=\"1\" class=\"dataframe\">\n",
       "  <thead>\n",
       "    <tr style=\"text-align: right;\">\n",
       "      <th></th>\n",
       "      <th>A</th>\n",
       "      <th>U</th>\n",
       "      <th>G</th>\n",
       "      <th>C</th>\n",
       "      <th>GC</th>\n",
       "    </tr>\n",
       "    <tr>\n",
       "      <th>class</th>\n",
       "      <th></th>\n",
       "      <th></th>\n",
       "      <th></th>\n",
       "      <th></th>\n",
       "      <th></th>\n",
       "    </tr>\n",
       "  </thead>\n",
       "  <tbody>\n",
       "    <tr>\n",
       "      <th>0</th>\n",
       "      <td>0.05</td>\n",
       "      <td>0.06</td>\n",
       "      <td>0.05</td>\n",
       "      <td>0.05</td>\n",
       "      <td>0.09</td>\n",
       "    </tr>\n",
       "    <tr>\n",
       "      <th>1</th>\n",
       "      <td>0.05</td>\n",
       "      <td>0.06</td>\n",
       "      <td>0.05</td>\n",
       "      <td>0.05</td>\n",
       "      <td>0.09</td>\n",
       "    </tr>\n",
       "  </tbody>\n",
       "</table>\n",
       "</div>"
      ],
      "text/plain": [
       "         A    U    G    C   GC\n",
       "class                         \n",
       "0     0.05 0.06 0.05 0.05 0.09\n",
       "1     0.05 0.06 0.05 0.05 0.09"
      ]
     },
     "execution_count": 16,
     "metadata": {},
     "output_type": "execute_result"
    }
   ],
   "source": [
    "hairpin_data.groupby('class').std()"
   ]
  },
  {
   "cell_type": "code",
   "execution_count": 17,
   "metadata": {},
   "outputs": [
    {
     "data": {
      "text/plain": [
       "Ttest_indResult(statistic=0.5505084458712903, pvalue=0.5826277071813077)"
      ]
     },
     "execution_count": 17,
     "metadata": {},
     "output_type": "execute_result"
    }
   ],
   "source": [
    "from scipy.stats import ttest_ind\n",
    "ttest_ind(*hairpin_data.groupby('class')['A'].apply(lambda x:list(x)))"
   ]
  },
  {
   "cell_type": "code",
   "execution_count": 18,
   "metadata": {},
   "outputs": [
    {
     "data": {
      "text/plain": [
       "Ttest_indResult(statistic=0.18271077822750287, pvalue=0.8552228901799007)"
      ]
     },
     "execution_count": 18,
     "metadata": {},
     "output_type": "execute_result"
    }
   ],
   "source": [
    "ttest_ind(*hairpin_data.groupby('class')['U'].apply(lambda x:list(x)))"
   ]
  },
  {
   "cell_type": "code",
   "execution_count": 19,
   "metadata": {},
   "outputs": [
    {
     "data": {
      "text/plain": [
       "Ttest_indResult(statistic=-0.3947442954297301, pvalue=0.6934814691632083)"
      ]
     },
     "execution_count": 19,
     "metadata": {},
     "output_type": "execute_result"
    }
   ],
   "source": [
    "ttest_ind(*hairpin_data.groupby('class')['G'].apply(lambda x:list(x)))"
   ]
  },
  {
   "cell_type": "code",
   "execution_count": 20,
   "metadata": {},
   "outputs": [
    {
     "data": {
      "text/plain": [
       "Ttest_indResult(statistic=-0.3617347810491656, pvalue=0.7179586429278867)"
      ]
     },
     "execution_count": 20,
     "metadata": {},
     "output_type": "execute_result"
    }
   ],
   "source": [
    "ttest_ind(*hairpin_data.groupby('class')['C'].apply(lambda x:list(x)))"
   ]
  },
  {
   "cell_type": "code",
   "execution_count": 21,
   "metadata": {},
   "outputs": [
    {
     "data": {
      "text/plain": [
       "Ttest_indResult(statistic=-0.4535643709964911, pvalue=0.6506683053878921)"
      ]
     },
     "execution_count": 21,
     "metadata": {},
     "output_type": "execute_result"
    }
   ],
   "source": [
    "ttest_ind(*hairpin_data.groupby('class')['GC'].apply(lambda x:list(x)))"
   ]
  },
  {
   "cell_type": "markdown",
   "metadata": {},
   "source": [
    "## Creating fasta file for gibbs sampling"
   ]
  },
  {
   "cell_type": "code",
   "execution_count": 16,
   "metadata": {},
   "outputs": [],
   "source": [
    "sign_seq=hairpin_data.loc[hairpin_data['class']==1,'sequence']\n",
    "fasta = \"> \\n\" + \"\\n> \\n\".join(sign_seq)\n",
    "with open(\"sign_seq.fa\", \"w\") as f:\n",
    "    f.write(fasta)"
   ]
  },
  {
   "cell_type": "markdown",
   "metadata": {},
   "source": [
    "### Here are the definitions for each of the 4 classes. They are miRNA sequence function groups.\n",
    "\n",
    "```\n",
    "Class Expr Sign\n",
    "0     more  no\n",
    "1     less  yes\n",
    "2     more  no\n",
    "3     less  yes\n",
    "```"
   ]
  },
  {
   "cell_type": "markdown",
   "metadata": {},
   "source": [
    "### Treating a sequence as a \"language\", otherwise known as  k-mer counting\n",
    "\n",
    "A challenge that remains is that none of these above methods results in vectors of uniform length, and that is a requirement for feeding data to a classification or regression algorithm. So with the above methods you have to resort to things like truncating sequences or padding with \"n\" or \"0\" to get vectors of uniform length.\n",
    "\n",
    "DNA and protein sequences can be viewed metaphorically as the language of life. The language encodes instructions as well as function for the molecules that are found in all life forms. The sequence language analogy continues with the genome as the book, subsequences (genes and gene families) are sentences and chapters, k-mers and peptides (motifs) are words, and nucleotide bases and amino acids are the alphabet. Since the analogy seems so apt, it stands to reason that the amazing work done in the natural language processing field should also apply to the natural language of DNA and protein sequences.\n",
    "\n",
    "The method I use here is simple and easy. I first take the long biological sequence and break it down into k-mer length overlapping “words”. For example, if I use \"words\" of length 6 (hexamers), “ATGCATGCA” becomes: ‘ATGCAT’, ‘TGCATG’, ‘GCATGC’, ‘CATGCA’. Hence our example sequence is broken down into 4 hexamer words.\n",
    "\n",
    "Here I am using hexamer “words” but that is arbitrary and word length can be tuned to suit the particular situation. The word length and amount of overlap need to be determined empirically for any given application.\n",
    "\n",
    "In genomics, we refer to these types of manipulations as \"k-mer counting\", or counting the occurances of each possible k-mer sequence. There are specialized tools for this, but the Python natural language processing tools make it supe easy.\n",
    "\n",
    "Here is a function that can be used to convert any sequence (string) to overlapping k-mer words:"
   ]
  },
  {
   "cell_type": "markdown",
   "metadata": {},
   "source": [
    "### Let's define a function to collect all possible overlapping k-mers of a specified length from any sequence string. We will basically apply the k-mers to the complete sequences."
   ]
  },
  {
   "cell_type": "code",
   "execution_count": 17,
   "metadata": {},
   "outputs": [],
   "source": [
    "# function to convert sequence strings into k-mer words, default size = 5 (pentamer words)\n",
    "def getKmers(sequence, size=5):\n",
    "    return [sequence[x:x+size].lower() for x in range(len(sequence) - size + 1)]"
   ]
  },
  {
   "cell_type": "markdown",
   "metadata": {},
   "source": [
    "## Now we can convert our training data sequences into short overlapping  k-mers of length 5.  Lets do that for each species of data we have using our getKmers function."
   ]
  },
  {
   "cell_type": "code",
   "execution_count": 18,
   "metadata": {},
   "outputs": [
    {
     "name": "stderr",
     "output_type": "stream",
     "text": [
      "/var/folders/91/plww02hn02dcgq2mr321qy9w0000gn/T/ipykernel_20628/3652457341.py:1: SettingWithCopyWarning: \n",
      "A value is trying to be set on a copy of a slice from a DataFrame.\n",
      "Try using .loc[row_indexer,col_indexer] = value instead\n",
      "\n",
      "See the caveats in the documentation: https://pandas.pydata.org/pandas-docs/stable/user_guide/indexing.html#returning-a-view-versus-a-copy\n",
      "  hairpin_data['words'] = hairpin_data.apply(lambda x: getKmers(x['sequence'], 5), axis=1)\n"
     ]
    }
   ],
   "source": [
    "hairpin_data['words'] = hairpin_data.apply(lambda x: getKmers(x['sequence'], 5), axis=1)\n",
    "hairpin_data = hairpin_data.drop('sequence', axis=1)"
   ]
  },
  {
   "cell_type": "markdown",
   "metadata": {},
   "source": [
    "### Now, our coding sequence data is changed to lowercase, split up into all possible k-mer words of length 5 and ready for the next step.  Let's take a look."
   ]
  },
  {
   "cell_type": "code",
   "execution_count": 19,
   "metadata": {},
   "outputs": [
    {
     "data": {
      "text/html": [
       "<div>\n",
       "<style scoped>\n",
       "    .dataframe tbody tr th:only-of-type {\n",
       "        vertical-align: middle;\n",
       "    }\n",
       "\n",
       "    .dataframe tbody tr th {\n",
       "        vertical-align: top;\n",
       "    }\n",
       "\n",
       "    .dataframe thead th {\n",
       "        text-align: right;\n",
       "    }\n",
       "</style>\n",
       "<table border=\"1\" class=\"dataframe\">\n",
       "  <thead>\n",
       "    <tr style=\"text-align: right;\">\n",
       "      <th></th>\n",
       "      <th>class</th>\n",
       "      <th>A</th>\n",
       "      <th>U</th>\n",
       "      <th>G</th>\n",
       "      <th>C</th>\n",
       "      <th>GC</th>\n",
       "      <th>words</th>\n",
       "    </tr>\n",
       "  </thead>\n",
       "  <tbody>\n",
       "    <tr>\n",
       "      <th>0</th>\n",
       "      <td>1</td>\n",
       "      <td>0.18</td>\n",
       "      <td>0.31</td>\n",
       "      <td>0.28</td>\n",
       "      <td>0.24</td>\n",
       "      <td>0.52</td>\n",
       "      <td>[agccu, gccug, ccugc, cugcu, ugcug, gcuga, cug...</td>\n",
       "    </tr>\n",
       "    <tr>\n",
       "      <th>1</th>\n",
       "      <td>1</td>\n",
       "      <td>0.27</td>\n",
       "      <td>0.28</td>\n",
       "      <td>0.26</td>\n",
       "      <td>0.19</td>\n",
       "      <td>0.45</td>\n",
       "      <td>[agagu, gagug, agugu, guguu, uguuc, guuca, uuc...</td>\n",
       "    </tr>\n",
       "    <tr>\n",
       "      <th>2</th>\n",
       "      <td>0</td>\n",
       "      <td>0.27</td>\n",
       "      <td>0.37</td>\n",
       "      <td>0.23</td>\n",
       "      <td>0.12</td>\n",
       "      <td>0.35</td>\n",
       "      <td>[gaaag, aaaga, aagau, agaug, gaugc, augcu, ugc...</td>\n",
       "    </tr>\n",
       "    <tr>\n",
       "      <th>3</th>\n",
       "      <td>1</td>\n",
       "      <td>0.26</td>\n",
       "      <td>0.29</td>\n",
       "      <td>0.22</td>\n",
       "      <td>0.23</td>\n",
       "      <td>0.45</td>\n",
       "      <td>[accgc, ccgca, cgcag, gcagg, caggg, aggga, ggg...</td>\n",
       "    </tr>\n",
       "    <tr>\n",
       "      <th>4</th>\n",
       "      <td>0</td>\n",
       "      <td>0.17</td>\n",
       "      <td>0.36</td>\n",
       "      <td>0.26</td>\n",
       "      <td>0.20</td>\n",
       "      <td>0.46</td>\n",
       "      <td>[ugagg, gaggu, aggua, gguag, guagu, uagua, agu...</td>\n",
       "    </tr>\n",
       "  </tbody>\n",
       "</table>\n",
       "</div>"
      ],
      "text/plain": [
       "   class    A    U    G    C   GC  \\\n",
       "0      1 0.18 0.31 0.28 0.24 0.52   \n",
       "1      1 0.27 0.28 0.26 0.19 0.45   \n",
       "2      0 0.27 0.37 0.23 0.12 0.35   \n",
       "3      1 0.26 0.29 0.22 0.23 0.45   \n",
       "4      0 0.17 0.36 0.26 0.20 0.46   \n",
       "\n",
       "                                               words  \n",
       "0  [agccu, gccug, ccugc, cugcu, ugcug, gcuga, cug...  \n",
       "1  [agagu, gagug, agugu, guguu, uguuc, guuca, uuc...  \n",
       "2  [gaaag, aaaga, aagau, agaug, gaugc, augcu, ugc...  \n",
       "3  [accgc, ccgca, cgcag, gcagg, caggg, aggga, ggg...  \n",
       "4  [ugagg, gaggu, aggua, gguag, guagu, uagua, agu...  "
      ]
     },
     "execution_count": 19,
     "metadata": {},
     "output_type": "execute_result"
    }
   ],
   "source": [
    "hairpin_data.head()"
   ]
  },
  {
   "cell_type": "markdown",
   "metadata": {},
   "source": [
    "### Since we are going to use scikit-learn natural language processing tools to do the k-mer counting, we need to now convert the lists of k-mers for each gene into string sentences of words that the count vectorizer can use.  We can also make a y variable to hold the class labels.  Let's do that now."
   ]
  },
  {
   "cell_type": "code",
   "execution_count": 20,
   "metadata": {},
   "outputs": [],
   "source": [
    "hairpin_texts = list(hairpin_data['words'])\n",
    "for item in range(len(hairpin_texts)):\n",
    "    hairpin_texts[item] = ' '.join(hairpin_texts[item])\n",
    "y_data = hairpin_data.iloc[:, 0].values                         "
   ]
  },
  {
   "cell_type": "code",
   "execution_count": 21,
   "metadata": {},
   "outputs": [
    {
     "name": "stdout",
     "output_type": "stream",
     "text": [
      "gaaag aaaga aagau agaug gaugc augcu ugcug gcuga cugaa ugaac gaacu aacug acugu cuguu uguuu guuuu uuuuu uuuug uuugc uugcg ugcga gcgau cgaug gaugu augug ugugu guguu uguuc guucc uuccu uccua ccuaa cuaau uaaua aauau auaug uaugc augca ugcag gcagu cagua aguau guaug uauga augaa ugaac gaaca aacau acaua cauau auauu uauug auugg uuggg uggga gggag ggagc gagca agcau gcauu cauuu auuuu uuuug uuugc uugca ugcau gcaug caugc augca ugcau gcaug caugg auggu ugguu gguuu guuuu uuuug uuugu uugua uguau guauc uauca aucaa ucaau caaua aauau auaua\n"
     ]
    }
   ],
   "source": [
    "print(hairpin_texts[2])"
   ]
  },
  {
   "cell_type": "code",
   "execution_count": 22,
   "metadata": {},
   "outputs": [
    {
     "data": {
      "text/plain": [
       "array([1, 1, 0, 1, 0, 1, 0, 1, 1, 0, 1, 0, 0, 0, 1, 1, 0, 0, 0, 1, 1, 0,\n",
       "       0, 0, 0, 1, 0, 1, 1, 1, 0, 0, 1, 0, 1, 1, 0, 0, 0, 1, 0, 0, 0, 0,\n",
       "       1, 1, 0, 0, 0, 0, 0, 0, 0, 1, 0, 0, 1, 0, 1, 0, 0, 0, 0, 0, 0, 1,\n",
       "       1, 1, 0, 0, 0, 0, 1, 1, 1, 1, 0, 0, 0, 0, 1, 0, 1, 1, 0, 0, 0, 1,\n",
       "       1, 0, 0, 0, 0, 0, 0, 0, 0, 1, 1, 0, 0, 0, 1, 0, 1, 0, 1, 1, 1, 1,\n",
       "       1, 1, 1, 1, 1, 1, 1, 1, 0, 0, 1, 1, 1, 1, 0, 0, 1, 1, 0, 1, 0, 0,\n",
       "       1, 0, 0, 0, 0, 0, 0, 0, 0, 0, 0, 1, 1, 0, 0, 0, 0, 1, 1, 0, 1, 1,\n",
       "       1, 0, 1, 1, 0, 1, 1, 1, 1, 0, 1, 1, 1, 0, 1, 1, 0, 1, 1, 1, 0, 0,\n",
       "       1, 1, 0, 1, 1, 1, 0, 1, 0, 1, 0, 0, 1])"
      ]
     },
     "execution_count": 22,
     "metadata": {},
     "output_type": "execute_result"
    }
   ],
   "source": [
    "y_data"
   ]
  },
  {
   "cell_type": "markdown",
   "metadata": {},
   "source": [
    "## Bag-of-Words (BoW)"
   ]
  },
  {
   "cell_type": "code",
   "execution_count": 23,
   "metadata": {},
   "outputs": [
    {
     "name": "stdout",
     "output_type": "stream",
     "text": [
      "Vocabulary size: 1020\n"
     ]
    }
   ],
   "source": [
    "# Creating the Bag of Words model using CountVectorizer()\n",
    "# This is equivalent to k-mer counting\n",
    "# The n-gram size of 4 was previously determined by testing\n",
    "from sklearn.feature_extraction.text import CountVectorizer\n",
    "cv = CountVectorizer()\n",
    "\n",
    "# Fit and Transform\n",
    "#cv.fit(hairpin_texts)\n",
    "#X = cv.transform(hairpin_texts)\n",
    "bow_X = cv.fit_transform(hairpin_texts)\n",
    "\n",
    "print(\"Vocabulary size: {}\".format(len(cv.vocabulary_)))\n",
    "#print(\"Vocabulary content:\\n {}\".format(cv.vocabulary_))"
   ]
  },
  {
   "cell_type": "markdown",
   "metadata": {},
   "source": [
    "## n-Grams: BOW with More Than One Word"
   ]
  },
  {
   "cell_type": "code",
   "execution_count": 24,
   "metadata": {},
   "outputs": [
    {
     "name": "stdout",
     "output_type": "stream",
     "text": [
      "Vocabulary size: 7018\n"
     ]
    }
   ],
   "source": [
    "# Creating the Bag of Words model using CountVectorizer()\n",
    "# This is equivalent to k-mer counting\n",
    "# The n-gram size of 4 was previously determined by testing\n",
    "from sklearn.feature_extraction.text import CountVectorizer\n",
    "cv = CountVectorizer(ngram_range=(3,3))\n",
    "\n",
    "# Fit and Transform\n",
    "#cv.fit(hairpin_texts)\n",
    "#X = cv.transform(hairpin_texts)\n",
    "ngram_X = cv.fit_transform(hairpin_texts)\n",
    "\n",
    "print(\"Vocabulary size: {}\".format(len(cv.vocabulary_)))\n",
    "#print(\"Vocabulary content:\\n {}\".format(cv.vocabulary_))"
   ]
  },
  {
   "cell_type": "code",
   "execution_count": 25,
   "metadata": {},
   "outputs": [
    {
     "name": "stdout",
     "output_type": "stream",
     "text": [
      "(189, 7018)\n"
     ]
    }
   ],
   "source": [
    "print(ngram_X.shape)"
   ]
  },
  {
   "cell_type": "markdown",
   "metadata": {},
   "source": [
    "# Term Frequency–Inverse Document Frequency (TFiDF)\n",
    "Tf-idf is a method used to evaluate how important a word is to a document in a collection.The more often a word appears in a document, the more important it is, but this is offset by how often the word appears in all of the documents."
   ]
  },
  {
   "cell_type": "code",
   "execution_count": 26,
   "metadata": {},
   "outputs": [
    {
     "name": "stdout",
     "output_type": "stream",
     "text": [
      "Vocabulary size: 1020\n",
      "Tfidf: <189x1020 sparse matrix of type '<class 'numpy.float64'>'\n",
      "\twith 11481 stored elements in Compressed Sparse Row format>\n"
     ]
    }
   ],
   "source": [
    "from sklearn.feature_extraction.text import TfidfVectorizer \n",
    "from sklearn.pipeline import make_pipeline\n",
    "\n",
    "tf_idf_vectorizer = TfidfVectorizer()\n",
    "tf_idf_vectorizer.fit(hairpin_texts)\n",
    "print(\"Vocabulary size: {}\".format(len(tf_idf_vectorizer.vocabulary_)))\n",
    "#print(\"Vocabulary content:\\n {}\".format(tf_idf_vectorizer.vocabulary_))\n",
    "tfidf_X = tf_idf_vectorizer.transform(hairpin_texts)\n",
    "print(\"Tfidf: {}\".format(repr(tfidf_X)))"
   ]
  },
  {
   "cell_type": "markdown",
   "metadata": {},
   "source": [
    "### If we have a look at class balance we can see we have relatively balanced dataset."
   ]
  },
  {
   "cell_type": "code",
   "execution_count": 27,
   "metadata": {},
   "outputs": [
    {
     "data": {
      "text/plain": [
       "<AxesSubplot:>"
      ]
     },
     "execution_count": 27,
     "metadata": {},
     "output_type": "execute_result"
    },
    {
     "data": {
      "image/png": "[encoded data removed]",
      "text/plain": [
       "<Figure size 432x288 with 1 Axes>"
      ]
     },
     "metadata": {
      "needs_background": "light"
     },
     "output_type": "display_data"
    }
   ],
   "source": [
    "hairpin_data['class'].value_counts().sort_index().plot.bar()"
   ]
  },
  {
   "cell_type": "code",
   "execution_count": 28,
   "metadata": {},
   "outputs": [],
   "source": [
    "# Splitting the human dataset into the training set and test set\n",
    "from sklearn.model_selection import train_test_split\n",
    "bow_X_train, bow_X_test, bow_y_train, bow_y_test = train_test_split(bow_X, \n",
    "                                                    y_data, \n",
    "                                                    test_size = 0.20, \n",
    "                                                    random_state=42,\n",
    "                                                    shuffle=True)\n",
    "ngram_X_train, ngram_X_test, ngram_y_train, ngram_y_test = train_test_split(ngram_X, \n",
    "                                                    y_data, \n",
    "                                                    test_size = 0.20, \n",
    "                                                    random_state=42,\n",
    "                                                    shuffle=True)\n",
    "tfidf_X_train, tfidf_X_test, tfidf_y_train, tfidf_y_test = train_test_split(tfidf_X, \n",
    "                                                    y_data, \n",
    "                                                    test_size = 0.20, \n",
    "                                                    random_state=42,\n",
    "                                                    shuffle=True)"
   ]
  },
  {
   "cell_type": "code",
   "execution_count": 29,
   "metadata": {},
   "outputs": [
    {
     "name": "stdout",
     "output_type": "stream",
     "text": [
      "(151, 1020)\n",
      "(38, 1020)\n"
     ]
    }
   ],
   "source": [
    "print(bow_X_train.shape)\n",
    "print(bow_X_test.shape)"
   ]
  },
  {
   "cell_type": "code",
   "execution_count": 30,
   "metadata": {},
   "outputs": [
    {
     "name": "stdout",
     "output_type": "stream",
     "text": [
      "18\n",
      "18\n",
      "18\n"
     ]
    }
   ],
   "source": [
    "print(bow_y_test.sum())\n",
    "print(ngram_y_test.sum())\n",
    "print(tfidf_y_test.sum())"
   ]
  },
  {
   "cell_type": "code",
   "execution_count": 31,
   "metadata": {},
   "outputs": [
    {
     "name": "stdout",
     "output_type": "stream",
     "text": [
      "Baseline accuracy = 52.63 \n"
     ]
    }
   ],
   "source": [
    "print(\"Baseline accuracy = %.2f \" %(100*20/38))"
   ]
  },
  {
   "cell_type": "markdown",
   "metadata": {},
   "source": [
    "## Hyper Parameter Optimization"
   ]
  },
  {
   "cell_type": "markdown",
   "metadata": {},
   "source": [
    "### BoW's k-mer"
   ]
  },
  {
   "cell_type": "code",
   "execution_count": 32,
   "metadata": {},
   "outputs": [],
   "source": [
    "bow_X_training, bow_X_cv, bow_y_training, bow_y_cv = train_test_split(bow_X_train, \n",
    "                                                    bow_y_train, \n",
    "                                                    test_size = 0.25, \n",
    "                                                    random_state=42,\n",
    "                                                    shuffle=True)"
   ]
  },
  {
   "cell_type": "code",
   "execution_count": 33,
   "metadata": {},
   "outputs": [
    {
     "name": "stdout",
     "output_type": "stream",
     "text": [
      "0.2621269092188047\n"
     ]
    }
   ],
   "source": [
    "from sklearn.naive_bayes import MultinomialNB\n",
    "from sklearn import metrics\n",
    "\n",
    "mdl=MultinomialNB().fit(bow_X_training, bow_y_training)\n",
    "predictions = mdl.predict(bow_X_cv)\n",
    "mcc = metrics.matthews_corrcoef(bow_y_cv, predictions, sample_weight=None)\n",
    "print(mcc)"
   ]
  },
  {
   "cell_type": "markdown",
   "metadata": {},
   "source": [
    "### N-gram's N"
   ]
  },
  {
   "cell_type": "code",
   "execution_count": 34,
   "metadata": {},
   "outputs": [],
   "source": [
    "ngram_X_training, ngram_X_cv, ngram_y_training, ngram_y_cv = train_test_split(ngram_X_train, \n",
    "                                                    ngram_y_train, \n",
    "                                                    test_size = 0.25, \n",
    "                                                    random_state=42,\n",
    "                                                    shuffle=True)"
   ]
  },
  {
   "cell_type": "code",
   "execution_count": 35,
   "metadata": {},
   "outputs": [
    {
     "name": "stdout",
     "output_type": "stream",
     "text": [
      "0.27608872259967787\n"
     ]
    }
   ],
   "source": [
    "mdl=MultinomialNB().fit(ngram_X_training, ngram_y_training)\n",
    "predictions = mdl.predict(ngram_X_cv)\n",
    "mcc = metrics.matthews_corrcoef(ngram_y_cv, predictions, sample_weight=None)\n",
    "print(mcc)"
   ]
  },
  {
   "cell_type": "markdown",
   "metadata": {},
   "source": [
    "## Model Training"
   ]
  },
  {
   "cell_type": "code",
   "execution_count": 36,
   "metadata": {},
   "outputs": [],
   "source": [
    "from sklearn import metrics\n",
    "\n",
    "def get_metrics(testing_labels, predictions):\n",
    "    cmat=metrics.confusion_matrix(testing_labels, predictions)\n",
    "    cm = pd.crosstab(pd.Series(testing_labels, name='Actual'), pd.Series(predictions, name='Predicted'))\n",
    "    accuracy = metrics.accuracy_score(testing_labels, predictions)\n",
    "    ck = metrics.cohen_kappa_score(testing_labels, predictions)\n",
    "    precision = metrics.precision_score(testing_labels, predictions, average='weighted')\n",
    "    recall = metrics.recall_score(testing_labels, predictions, average='weighted')\n",
    "    f1 = metrics.f1_score(testing_labels, predictions, average='weighted')\n",
    "    mcc = metrics.matthews_corrcoef(testing_labels, predictions, sample_weight=None)\n",
    "    return cmat, cm, accuracy, ck, precision, recall, f1, mcc\n",
    "\n",
    "def train_model(classifier, training_data, training_labels, testing_data):\n",
    "    classifier.fit(training_data, training_labels)\n",
    "    predictions = classifier.predict(testing_data)\n",
    "    return predictions"
   ]
  },
  {
   "cell_type": "code",
   "execution_count": 37,
   "metadata": {},
   "outputs": [],
   "source": [
    "f = open(\"perf.txt\",\"w\")"
   ]
  },
  {
   "cell_type": "code",
   "execution_count": 42,
   "metadata": {},
   "outputs": [
    {
     "name": "stdout",
     "output_type": "stream",
     "text": [
      "LogisticRegression\n",
      "BOW:\n",
      "Predicted   0   1\n",
      "Actual           \n",
      "0          13   7\n",
      "1           7  11\n",
      "\t\t\taccuracy = 0.63 cohens_kappa = 0.26 precision = 0.63 recall = 0.63 f1 = 0.63 mcc = 0.26\n",
      "NGRAM:\n",
      "Predicted   0  1\n",
      "Actual          \n",
      "0          18  2\n",
      "1           9  9\n",
      "\t\t\taccuracy = 0.71 cohens_kappa = 0.41 precision = 0.74 recall = 0.71 f1 = 0.70 mcc = 0.44\n",
      "TFIDF:\n",
      "Predicted   0  1\n",
      "Actual          \n",
      "0          15  5\n",
      "1          12  6\n",
      "\t\t\taccuracy = 0.55 cohens_kappa = 0.08 precision = 0.55 recall = 0.55 f1 = 0.53 mcc = 0.44\n",
      "\n",
      "\n",
      "SGDClassifier\n",
      "BOW:\n",
      "Predicted   0   1\n",
      "Actual           \n",
      "0          13   7\n",
      "1           6  12\n",
      "\t\t\taccuracy = 0.66 cohens_kappa = 0.32 precision = 0.66 recall = 0.66 f1 = 0.66 mcc = 0.32\n",
      "NGRAM:\n",
      "Predicted   0   1\n",
      "Actual           \n",
      "0          14   6\n",
      "1           7  11\n",
      "\t\t\taccuracy = 0.66 cohens_kappa = 0.31 precision = 0.66 recall = 0.66 f1 = 0.66 mcc = 0.31\n",
      "TFIDF:\n",
      "Predicted   0   1\n",
      "Actual           \n",
      "0          15   5\n",
      "1           8  10\n",
      "\t\t\taccuracy = 0.66 cohens_kappa = 0.31 precision = 0.66 recall = 0.66 f1 = 0.65 mcc = 0.31\n",
      "\n",
      "\n",
      "KNeighborsClassifier\n",
      "BOW:\n",
      "Predicted   0  1\n",
      "Actual          \n",
      "0          15  5\n",
      "1          13  5\n",
      "\t\t\taccuracy = 0.53 cohens_kappa = 0.03 precision = 0.52 recall = 0.53 f1 = 0.50 mcc = 0.03\n",
      "NGRAM:\n",
      "Predicted   0  1\n",
      "Actual          \n",
      "0          20  0\n",
      "1          16  2\n",
      "\t\t\taccuracy = 0.58 cohens_kappa = 0.12 precision = 0.77 recall = 0.58 f1 = 0.47 mcc = 0.25\n",
      "TFIDF:\n",
      "Predicted   0  1\n",
      "Actual          \n",
      "0          14  6\n",
      "1           9  9\n",
      "\t\t\taccuracy = 0.61 cohens_kappa = 0.20 precision = 0.60 recall = 0.61 f1 = 0.60 mcc = 0.25\n",
      "\n",
      "\n",
      "MultinomialNB\n",
      "BOW:\n",
      "Predicted   0   1\n",
      "Actual           \n",
      "0          15   5\n",
      "1           5  13\n",
      "\t\t\taccuracy = 0.74 cohens_kappa = 0.47 precision = 0.74 recall = 0.74 f1 = 0.74 mcc = 0.47\n",
      "NGRAM:\n",
      "Predicted   0   1\n",
      "Actual           \n",
      "0          16   4\n",
      "1           5  13\n",
      "\t\t\taccuracy = 0.76 cohens_kappa = 0.52 precision = 0.76 recall = 0.76 f1 = 0.76 mcc = 0.52\n",
      "TFIDF:\n",
      "Predicted   0  1\n",
      "Actual          \n",
      "0          15  5\n",
      "1          12  6\n",
      "\t\t\taccuracy = 0.55 cohens_kappa = 0.08 precision = 0.55 recall = 0.55 f1 = 0.53 mcc = 0.52\n",
      "\n",
      "\n",
      "DecisionTreeClassifier\n",
      "BOW:\n",
      "Predicted   0   1\n",
      "Actual           \n",
      "0          15   5\n",
      "1           4  14\n",
      "\t\t\taccuracy = 0.76 cohens_kappa = 0.53 precision = 0.76 recall = 0.76 f1 = 0.76 mcc = 0.53\n",
      "NGRAM:\n",
      "Predicted  0   1\n",
      "Actual          \n",
      "0          8  12\n",
      "1          6  12\n",
      "\t\t\taccuracy = 0.53 cohens_kappa = 0.07 precision = 0.54 recall = 0.53 f1 = 0.52 mcc = 0.07\n",
      "TFIDF:\n",
      "Predicted   0  1\n",
      "Actual          \n",
      "0          12  8\n",
      "1           9  9\n",
      "\t\t\taccuracy = 0.55 cohens_kappa = 0.10 precision = 0.55 recall = 0.55 f1 = 0.55 mcc = 0.07\n",
      "\n",
      "\n"
     ]
    }
   ],
   "source": [
    "from sklearn.linear_model import LogisticRegression, SGDClassifier\n",
    "from sklearn.neighbors import KNeighborsClassifier\n",
    "from sklearn.svm import LinearSVC\n",
    "from sklearn.tree import DecisionTreeClassifier\n",
    "from sklearn.ensemble import RandomForestClassifier, AdaBoostClassifier, GradientBoostingClassifier\n",
    "from sklearn.naive_bayes import MultinomialNB\n",
    "from xgboost import XGBClassifier\n",
    "\n",
    "#Chose a few popular classifiers for text classification\n",
    "classifiers = [LogisticRegression(), SGDClassifier(), KNeighborsClassifier(), MultinomialNB(), DecisionTreeClassifier()]\n",
    "label = list()\n",
    "cm  = list()\n",
    "acc = list()\n",
    "ck  = list()\n",
    "pre = list()\n",
    "rec = list()\n",
    "f1  = list()\n",
    "mcc = list()\n",
    "ngram_pred = list()\n",
    "\n",
    "for classifier in classifiers:\n",
    "    bow_y_pred = train_model(classifier, bow_X_train, bow_y_train, bow_X_test)\n",
    "    bow_cmat, bow_cm, bow_accuracy, bow_ck, bow_precision, bow_recall, bow_f1, bow_mcc = get_metrics(bow_y_test, bow_y_pred)\n",
    "    label.append(\"BOW \" + classifier.__class__.__name__)\n",
    "    cm.append(bow_cm)\n",
    "    acc.append(bow_accuracy)\n",
    "    ck.append(bow_ck)\n",
    "    pre.append(bow_precision)\n",
    "    rec.append(bow_recall)\n",
    "    f1.append(bow_f1)\n",
    "    mcc.append(bow_mcc)\n",
    "    \n",
    "    ngram_y_pred = train_model(classifier, ngram_X_train, ngram_y_train, ngram_X_test)\n",
    "    ngram_cmat, ngram_cm, ngram_accuracy, ngram_ck, ngram_precision, ngram_recall, ngram_f1, ngram_mcc = get_metrics(ngram_y_test, ngram_y_pred)\n",
    "    label.append(\"BOW N-GRAM \" + classifier.__class__.__name__)\n",
    "    cm.append(ngram_cm)\n",
    "    acc.append(ngram_accuracy)\n",
    "    ck.append(ngram_ck)\n",
    "    pre.append(ngram_precision)\n",
    "    rec.append(ngram_recall)\n",
    "    f1.append(ngram_f1)\n",
    "    mcc.append(ngram_mcc)\n",
    "    ngram_pred.append(ngram_y_pred)\n",
    "    \n",
    "    tfidf_y_pred = train_model(classifier, tfidf_X_train, tfidf_y_train, tfidf_X_test)\n",
    "    tfidf_cmat, tfidf_cm, tfidf_accuracy, tfidf_ck, tfidf_precision, tfidf_recall, tfidf_f1, tfidf_mcc = get_metrics(tfidf_y_test, tfidf_y_pred)\n",
    "    label.append(\"TFIDF \" + classifier.__class__.__name__)\n",
    "    cm.append(tfidf_cm)\n",
    "    acc.append(tfidf_accuracy)\n",
    "    ck.append(tfidf_ck)\n",
    "    pre.append(tfidf_precision)\n",
    "    rec.append(tfidf_recall)\n",
    "    f1.append(tfidf_f1)\n",
    "    mcc.append(tfidf_mcc)\n",
    "    \n",
    "    print(classifier.__class__.__name__)\n",
    "    print(\"BOW:\")\n",
    "    print(bow_cm)\n",
    "    print(\"\\t\\t\\taccuracy = %.2f cohens_kappa = %.2f precision = %.2f recall = %.2f f1 = %.2f mcc = %.2f\" % (bow_accuracy, bow_ck, bow_precision, bow_recall, bow_f1, bow_mcc))\n",
    "    print(\"NGRAM:\")\n",
    "    print(ngram_cm)\n",
    "    print(\"\\t\\t\\taccuracy = %.2f cohens_kappa = %.2f precision = %.2f recall = %.2f f1 = %.2f mcc = %.2f\" % (ngram_accuracy, ngram_ck, ngram_precision, ngram_recall, ngram_f1, ngram_mcc))\n",
    "    print(\"TFIDF:\")\n",
    "    print(tfidf_cm)\n",
    "    print(\"\\t\\t\\taccuracy = %.2f cohens_kappa = %.2f precision = %.2f recall = %.2f f1 = %.2f mcc = %.2f\" % (tfidf_accuracy, tfidf_ck, tfidf_precision, tfidf_recall, tfidf_f1, ngram_mcc))\n",
    "    print(\"\\n\")\n",
    "    \n",
    "    f.write(\"%.2f\\t%.2f\\t%.2f\\t%.2f\\t%.2f\\t%.2f\\n\" % (bow_accuracy, bow_ck, bow_precision, bow_recall, bow_f1, bow_mcc))\n",
    "    f.write(\"%.2f\\t%.2f\\t%.2f\\t%.2f\\t%.2f\\t%.2f\\n\" % (ngram_accuracy, ngram_ck, ngram_precision, ngram_recall, ngram_f1, ngram_mcc))\n",
    "    f.write(\"%.2f\\t%.2f\\t%.2f\\t%.2f\\t%.2f\\t%.2f\\n\" % (tfidf_accuracy, tfidf_ck, tfidf_precision, tfidf_recall, tfidf_f1, ngram_mcc))"
   ]
  },
  {
   "cell_type": "code",
   "execution_count": 43,
   "metadata": {},
   "outputs": [],
   "source": [
    "f.close()"
   ]
  },
  {
   "cell_type": "code",
   "execution_count": 44,
   "metadata": {},
   "outputs": [
    {
     "data": {
      "image/png": "[encoded data removed]",
      "text/plain": [
       "<Figure size 1584x576 with 1 Axes>"
      ]
     },
     "metadata": {
      "needs_background": "light"
     },
     "output_type": "display_data"
    }
   ],
   "source": [
    "index = np.arange(len(label))\n",
    "plt.figure(figsize=(22,8))\n",
    "accuracy_results = [i * 100 for i in acc]\n",
    "bars = plt.bar(index, accuracy_results)\n",
    "\n",
    "plt.ylabel('Accuracy %')\n",
    "plt.xticks(index, label, rotation=60)\n",
    "plt.title('Performance')\n",
    "\n",
    "colors = ['r']*3 + ['m']*3 + ['g']*3 + ['y']*3 + ['b']*3 + ['k']*3 + ['c']*3\n",
    "for item, color in zip(bars, colors):\n",
    "     item.set_color(color)\n",
    "plt.show()"
   ]
  },
  {
   "cell_type": "code",
   "execution_count": 45,
   "metadata": {},
   "outputs": [
    {
     "data": {
      "image/png": "[encoded data removed]",
      "text/plain": [
       "<Figure size 1584x576 with 1 Axes>"
      ]
     },
     "metadata": {
      "needs_background": "light"
     },
     "output_type": "display_data"
    }
   ],
   "source": [
    "index = np.arange(len(label))\n",
    "plt.figure(figsize=(22,8))\n",
    "cohens_kappa_results = [i * 100 for i in ck]\n",
    "bars = plt.bar(index, cohens_kappa_results)\n",
    "\n",
    "plt.ylabel('Cohen\\'s kappa %')\n",
    "plt.xticks(index, label, rotation=60)\n",
    "plt.title('Performance')\n",
    "\n",
    "colors = ['r']*3 + ['m']*3 + ['g']*3 + ['y']*3 + ['b']*3 + ['k']*3 + ['c']*3\n",
    "for item, color in zip(bars, colors):\n",
    "     item.set_color(color)\n",
    "plt.show()"
   ]
  },
  {
   "cell_type": "code",
   "execution_count": 46,
   "metadata": {},
   "outputs": [
    {
     "data": {
      "image/png": "[encoded data removed]",
      "text/plain": [
       "<Figure size 1584x576 with 1 Axes>"
      ]
     },
     "metadata": {
      "needs_background": "light"
     },
     "output_type": "display_data"
    }
   ],
   "source": [
    "index = np.arange(len(label))\n",
    "plt.figure(figsize=(22,8))\n",
    "precision_results = [i * 100 for i in pre]\n",
    "bars = plt.bar(index, precision_results)\n",
    "\n",
    "plt.ylabel('Precision %')\n",
    "plt.xticks(index, label, rotation=60)\n",
    "plt.title('Performance')\n",
    "\n",
    "colors = ['r']*3 + ['m']*3 + ['g']*3 + ['y']*3 + ['b']*3 + ['k']*3 + ['c']*3\n",
    "for item, color in zip(bars, colors):\n",
    "     item.set_color(color)\n",
    "plt.show()"
   ]
  },
  {
   "cell_type": "code",
   "execution_count": 47,
   "metadata": {},
   "outputs": [
    {
     "data": {
      "image/png": "[encoded data removed]",
      "text/plain": [
       "<Figure size 1584x576 with 1 Axes>"
      ]
     },
     "metadata": {
      "needs_background": "light"
     },
     "output_type": "display_data"
    }
   ],
   "source": [
    "index = np.arange(len(label))\n",
    "plt.figure(figsize=(22,8))\n",
    "recall_results = [i * 100 for i in rec]\n",
    "bars = plt.bar(index, recall_results)\n",
    "\n",
    "plt.ylabel('Recall %')\n",
    "plt.xticks(index, label, rotation=60)\n",
    "plt.title('Performance')\n",
    "\n",
    "colors = ['r']*3 + ['m']*3 + ['g']*3 + ['y']*3 + ['b']*3 + ['k']*3 + ['c']*3\n",
    "for item, color in zip(bars, colors):\n",
    "     item.set_color(color)\n",
    "plt.show()"
   ]
  },
  {
   "cell_type": "code",
   "execution_count": 48,
   "metadata": {},
   "outputs": [
    {
     "data": {
      "image/png": "[encoded data removed]",
      "text/plain": [
       "<Figure size 1584x576 with 1 Axes>"
      ]
     },
     "metadata": {
      "needs_background": "light"
     },
     "output_type": "display_data"
    }
   ],
   "source": [
    "index = np.arange(len(label))\n",
    "plt.figure(figsize=(22,8))\n",
    "f1_results = [i * 100 for i in f1]\n",
    "bars = plt.bar(index, f1_results)\n",
    "\n",
    "plt.ylabel('F1-score %')\n",
    "plt.xticks(index, label, rotation=60)\n",
    "plt.title('Performance')\n",
    "\n",
    "colors = ['r']*3 + ['m']*3 + ['g']*3 + ['y']*3 + ['b']*3 + ['k']*3 + ['c']*3\n",
    "for item, color in zip(bars, colors):\n",
    "     item.set_color(color)\n",
    "plt.show()"
   ]
  },
  {
   "cell_type": "code",
   "execution_count": 49,
   "metadata": {},
   "outputs": [
    {
     "data": {
      "image/png": "[encoded data removed]",
      "text/plain": [
       "<Figure size 1584x576 with 1 Axes>"
      ]
     },
     "metadata": {
      "needs_background": "light"
     },
     "output_type": "display_data"
    }
   ],
   "source": [
    "index = np.arange(len(label))\n",
    "plt.figure(figsize=(22,8))\n",
    "mcc_results = [i * 100 for i in mcc]\n",
    "bars = plt.bar(index, mcc_results)\n",
    "\n",
    "plt.ylabel('MCC %')\n",
    "plt.xticks(index, label, rotation=60)\n",
    "plt.title('Performance')\n",
    "\n",
    "colors = ['r']*3 + ['m']*3 + ['g']*3 + ['y']*3 + ['b']*3 + ['k']*3 + ['c']*3\n",
    "for item, color in zip(bars, colors):\n",
    "     item.set_color(color)\n",
    "plt.show()"
   ]
  },
  {
   "cell_type": "markdown",
   "metadata": {},
   "source": [
    "## Bagging Method - concensus"
   ]
  },
  {
   "cell_type": "code",
   "execution_count": 50,
   "metadata": {},
   "outputs": [
    {
     "name": "stdout",
     "output_type": "stream",
     "text": [
      "Ensembl of Ngrams:\n",
      "Predicted  0.00  1.00\n",
      "Actual               \n",
      "0            16     4\n",
      "1             7    11\n",
      "\t\t\taccuracy = 0.711 cohens_kappa = 0.415 precision = 0.714 recall = 0.711 f1 = 0.707 mcc = 0.420\n"
     ]
    }
   ],
   "source": [
    "ensmbl_pred=(ngram_pred[0]+ngram_pred[1]+ngram_pred[3])/3\n",
    "ensmbl_pred[ensmbl_pred>=0.5]=1\n",
    "ensmbl_pred[ensmbl_pred<0.5]=0\n",
    "\n",
    "esmbl_cmat, esmbl_cm, esmbl_accuracy, esmbl_ck, esmbl_precision, esmbl_recall, esmbl_f1, esmbl_mcc = get_metrics(ngram_y_test, ensmbl_pred)\n",
    "\n",
    "print(\"Ensembl of Ngrams:\")\n",
    "print(esmbl_cm)\n",
    "print(\"\\t\\t\\taccuracy = %.3f cohens_kappa = %.3f precision = %.3f recall = %.3f f1 = %.3f mcc = %.3f\" % (esmbl_accuracy, esmbl_ck, esmbl_precision, esmbl_recall, esmbl_f1, esmbl_mcc))"
   ]
  },
  {
   "cell_type": "code",
   "execution_count": 51,
   "metadata": {},
   "outputs": [
    {
     "name": "stdout",
     "output_type": "stream",
     "text": [
      "Ensembl of Ngrams:\n",
      "Predicted  0.00  1.00\n",
      "Actual               \n",
      "0            16     4\n",
      "1             5    13\n",
      "\t\t\taccuracy = 0.76 cohens_kappa = 0.52 precision = 0.76 recall = 0.76 f1 = 0.76 mcc = 0.52\n"
     ]
    }
   ],
   "source": [
    "ensmbl_pred=(ngram_pred[0]+ngram_pred[3])/2\n",
    "ensmbl_pred[ensmbl_pred>=0.5]=1\n",
    "ensmbl_pred[ensmbl_pred<0.5]=0\n",
    "\n",
    "esmbl_cmat, esmbl_cm, esmbl_accuracy, esmbl_ck, esmbl_precision, esmbl_recall, esmbl_f1, esmbl_mcc = get_metrics(ngram_y_test, ensmbl_pred)\n",
    "\n",
    "print(\"Ensembl of Ngrams:\")\n",
    "print(esmbl_cm)\n",
    "print(\"\\t\\t\\taccuracy = %.2f cohens_kappa = %.2f precision = %.2f recall = %.2f f1 = %.2f mcc = %.2f\" % (esmbl_accuracy, esmbl_ck, esmbl_precision, esmbl_recall, esmbl_f1, esmbl_mcc))"
   ]
  },
  {
   "cell_type": "code",
   "execution_count": 52,
   "metadata": {},
   "outputs": [
    {
     "data": {
      "image/png": "[encoded data removed]",
      "text/plain": [
       "<Figure size 432x288 with 1 Axes>"
      ]
     },
     "metadata": {
      "needs_background": "light"
     },
     "output_type": "display_data"
    }
   ],
   "source": [
    "clf=LogisticRegression().fit(ngram_X_train, ngram_y_train)\n",
    "ngram_y_train_pred = clf.predict_proba(ngram_X_train)\n",
    "ngram_y_test_pred = clf.predict_proba(ngram_X_test)\n",
    "auc_train = metrics.roc_auc_score(ngram_y_train, ngram_y_train_pred[:,1])\n",
    "auc_test = metrics.roc_auc_score(ngram_y_test, ngram_y_test_pred[:,1])\n",
    "plt.title('N-gram Logistic Regression', fontweight='bold', fontsize=10)\n",
    "plt.plot([0,1], [0,1], color='black', linestyle=':')\n",
    "fpr, tpr, _ = metrics.roc_curve(ngram_y_train, ngram_y_train_pred[:,1])\n",
    "plt.plot(fpr,tpr,label=\"Training set, auc=\"+\"%.2f\"%(auc_train), color='black')\n",
    "fpr, tpr, _ = metrics.roc_curve(ngram_y_test, ngram_y_test_pred[:,1])\n",
    "plt.plot(fpr,tpr,label=\"Test set,       auc=\"+\"%.2f\"%(auc_test), color='black', linestyle='--')\n",
    "plt.legend(loc=4)\n",
    "plt.show()"
   ]
  },
  {
   "cell_type": "code",
   "execution_count": 53,
   "metadata": {},
   "outputs": [
    {
     "data": {
      "image/png": "[encoded data removed]",
      "text/plain": [
       "<Figure size 432x288 with 1 Axes>"
      ]
     },
     "metadata": {
      "needs_background": "light"
     },
     "output_type": "display_data"
    }
   ],
   "source": [
    "clf=MultinomialNB().fit(ngram_X_train, ngram_y_train)\n",
    "ngram_y_train_pred = clf.predict_proba(ngram_X_train)\n",
    "ngram_y_test_pred = clf.predict_proba(ngram_X_test)\n",
    "auc_train = metrics.roc_auc_score(ngram_y_train, ngram_y_train_pred[:,1])\n",
    "auc_test = metrics.roc_auc_score(ngram_y_test, ngram_y_test_pred[:,1])\n",
    "plt.title('N-gram Multinomial Naive Bayes', fontweight='bold', fontsize=10)\n",
    "plt.plot([0,1], [0,1], color='black', linestyle=':')\n",
    "fpr, tpr, _ = metrics.roc_curve(ngram_y_train, ngram_y_train_pred[:,1])\n",
    "plt.plot(fpr,tpr,label=\"Training set, auc=\"+\"%.2f\"%(auc_train), color='black')\n",
    "fpr, tpr, _ = metrics.roc_curve(ngram_y_test, ngram_y_test_pred[:,1])\n",
    "plt.plot(fpr,tpr,label=\"Test set,       auc=\"+\"%.2f\"%(auc_test), color='black', linestyle='--')\n",
    "plt.legend(loc=4)\n",
    "plt.show()"
   ]
  },
  {
   "cell_type": "code",
   "execution_count": 54,
   "metadata": {},
   "outputs": [
    {
     "data": {
      "image/png": "[encoded data removed]",
      "text/plain": [
       "<Figure size 1000x500 with 2 Axes>"
      ]
     },
     "metadata": {
      "needs_background": "light"
     },
     "output_type": "display_data"
    }
   ],
   "source": [
    "plt.figure(figsize=(10, 5), dpi=100)\n",
    "\n",
    "clf=LogisticRegression().fit(ngram_X_train, ngram_y_train)\n",
    "ngram_y_train_pred = clf.predict_proba(ngram_X_train)\n",
    "ngram_y_test_pred = clf.predict_proba(ngram_X_test)\n",
    "auc_train = metrics.roc_auc_score(ngram_y_train, ngram_y_train_pred[:,1])\n",
    "auc_test = metrics.roc_auc_score(ngram_y_test, ngram_y_test_pred[:,1])\n",
    "plt.subplot(1, 2, 1)\n",
    "plt.title('N-gram Logistic Regression', fontweight='bold', fontsize=10)\n",
    "plt.plot([0,1], [0,1], color='black', linestyle=':')\n",
    "fpr, tpr, _ = metrics.roc_curve(ngram_y_train, ngram_y_train_pred[:,1])\n",
    "plt.plot(fpr,tpr,label=\"Training set, auc=\"+\"%.2f\"%(auc_train), color='black')\n",
    "fpr, tpr, _ = metrics.roc_curve(ngram_y_test, ngram_y_test_pred[:,1])\n",
    "plt.plot(fpr,tpr,label=\"Test set,       auc=\"+\"%.2f\"%(auc_test), color='black', linestyle='--')\n",
    "plt.legend(loc=4)\n",
    "\n",
    "clf=MultinomialNB().fit(ngram_X_train, ngram_y_train)\n",
    "ngram_y_train_pred = clf.predict_proba(ngram_X_train)\n",
    "ngram_y_test_pred = clf.predict_proba(ngram_X_test)\n",
    "auc_train = metrics.roc_auc_score(ngram_y_train, ngram_y_train_pred[:,1])\n",
    "auc_test = metrics.roc_auc_score(ngram_y_test, ngram_y_test_pred[:,1])\n",
    "plt.subplot(1, 2, 2)\n",
    "plt.title('N-gram Multinomial Naive Bayes', fontweight='bold', fontsize=10)\n",
    "plt.plot([0,1], [0,1], color='black', linestyle=':')\n",
    "fpr, tpr, _ = metrics.roc_curve(ngram_y_train, ngram_y_train_pred[:,1])\n",
    "plt.plot(fpr,tpr,label=\"Training set, auc=\"+\"%.2f\"%(auc_train), color='black')\n",
    "fpr, tpr, _ = metrics.roc_curve(ngram_y_test, ngram_y_test_pred[:,1])\n",
    "plt.plot(fpr,tpr,label=\"Test set,       auc=\"+\"%.2f\"%(auc_test), color='black', linestyle='--')\n",
    "plt.legend(loc=4)\n",
    "plt.show()"
   ]
  },
  {
   "cell_type": "code",
   "execution_count": 87,
   "metadata": {},
   "outputs": [],
   "source": [
    "cv = CountVectorizer(ngram_range=(3,3))\n",
    "ngram_X = cv.fit_transform(hairpin_texts)\n",
    "\n",
    "mdl=LogisticRegression().fit(ngram_X, y_data)"
   ]
  },
  {
   "cell_type": "code",
   "execution_count": 88,
   "metadata": {},
   "outputs": [],
   "source": [
    "import pickle\n",
    "pickle.dump(mdl, open(\"mdl.sav\", \"wb\"))"
   ]
  },
  {
   "cell_type": "code",
   "execution_count": 89,
   "metadata": {},
   "outputs": [
    {
     "name": "stdout",
     "output_type": "stream",
     "text": [
      "1.0\n"
     ]
    }
   ],
   "source": [
    "ld_mdl=pickle.load(open(\"mdl.sav\",\"rb\"))\n",
    "resl = ld_mdl.score(ngram_X, y_data)\n",
    "print(resl)"
   ]
  },
  {
   "cell_type": "code",
   "execution_count": 90,
   "metadata": {},
   "outputs": [
    {
     "data": {
      "text/html": [
       "<div>\n",
       "<style scoped>\n",
       "    .dataframe tbody tr th:only-of-type {\n",
       "        vertical-align: middle;\n",
       "    }\n",
       "\n",
       "    .dataframe tbody tr th {\n",
       "        vertical-align: top;\n",
       "    }\n",
       "\n",
       "    .dataframe thead th {\n",
       "        text-align: right;\n",
       "    }\n",
       "</style>\n",
       "<table border=\"1\" class=\"dataframe\">\n",
       "  <thead>\n",
       "    <tr style=\"text-align: right;\">\n",
       "      <th></th>\n",
       "      <th>id_hairpin</th>\n",
       "      <th>seq_hairpin</th>\n",
       "    </tr>\n",
       "  </thead>\n",
       "  <tbody>\n",
       "    <tr>\n",
       "      <th>0</th>\n",
       "      <td>cel-let-7</td>\n",
       "      <td>UACACUGUGGAUCCGGUGAGGUAGUAGGUUGUAUAGUUUGGAAUAU...</td>\n",
       "    </tr>\n",
       "    <tr>\n",
       "      <th>1</th>\n",
       "      <td>cel-lin-4</td>\n",
       "      <td>AUGCUUCCGGCCUGUUCCCUGAGACCUCAAGUGUGAGUGUACUAUU...</td>\n",
       "    </tr>\n",
       "    <tr>\n",
       "      <th>2</th>\n",
       "      <td>cel-mir-1</td>\n",
       "      <td>AAAGUGACCGUACCGAGCUGCAUACUUCCUUACAUGCCCAUACUAU...</td>\n",
       "    </tr>\n",
       "    <tr>\n",
       "      <th>3</th>\n",
       "      <td>cel-mir-2</td>\n",
       "      <td>UAAACAGUAUACAGAAAGCCAUCAAAGCGGUGGUUGAUGUGUUGCA...</td>\n",
       "    </tr>\n",
       "    <tr>\n",
       "      <th>4</th>\n",
       "      <td>cel-mir-34</td>\n",
       "      <td>CGGACAAUGCUCGAGAGGCAGUGUGGUUAGCUGGUUGCAUAUUUCC...</td>\n",
       "    </tr>\n",
       "  </tbody>\n",
       "</table>\n",
       "</div>"
      ],
      "text/plain": [
       "   id_hairpin                                        seq_hairpin\n",
       "0   cel-let-7  UACACUGUGGAUCCGGUGAGGUAGUAGGUUGUAUAGUUUGGAAUAU...\n",
       "1   cel-lin-4  AUGCUUCCGGCCUGUUCCCUGAGACCUCAAGUGUGAGUGUACUAUU...\n",
       "2   cel-mir-1  AAAGUGACCGUACCGAGCUGCAUACUUCCUUACAUGCCCAUACUAU...\n",
       "3   cel-mir-2  UAAACAGUAUACAGAAAGCCAUCAAAGCGGUGGUUGAUGUGUUGCA...\n",
       "4  cel-mir-34  CGGACAAUGCUCGAGAGGCAGUGUGGUUAGCUGGUUGCAUAUUUCC..."
      ]
     },
     "execution_count": 90,
     "metadata": {},
     "output_type": "execute_result"
    }
   ],
   "source": [
    "hairpin.head()"
   ]
  },
  {
   "cell_type": "code",
   "execution_count": 91,
   "metadata": {},
   "outputs": [
    {
     "data": {
      "text/html": [
       "<div>\n",
       "<style scoped>\n",
       "    .dataframe tbody tr th:only-of-type {\n",
       "        vertical-align: middle;\n",
       "    }\n",
       "\n",
       "    .dataframe tbody tr th {\n",
       "        vertical-align: top;\n",
       "    }\n",
       "\n",
       "    .dataframe thead th {\n",
       "        text-align: right;\n",
       "    }\n",
       "</style>\n",
       "<table border=\"1\" class=\"dataframe\">\n",
       "  <thead>\n",
       "    <tr style=\"text-align: right;\">\n",
       "      <th></th>\n",
       "      <th>id_hairpin</th>\n",
       "      <th>seq_hairpin</th>\n",
       "    </tr>\n",
       "  </thead>\n",
       "  <tbody>\n",
       "    <tr>\n",
       "      <th>57</th>\n",
       "      <td>hsa-let-7a-1</td>\n",
       "      <td>UGGGAUGAGGUAGUAGGUUGUAUAGUUUUAGGGUCACACCCACCAC...</td>\n",
       "    </tr>\n",
       "    <tr>\n",
       "      <th>58</th>\n",
       "      <td>hsa-let-7a-2</td>\n",
       "      <td>AGGUUGAGGUAGUAGGUUGUAUAGUUUAGAAUUACAUCAAGGGAGA...</td>\n",
       "    </tr>\n",
       "    <tr>\n",
       "      <th>59</th>\n",
       "      <td>hsa-let-7a-3</td>\n",
       "      <td>GGGUGAGGUAGUAGGUUGUAUAGUUUGGGGCUCUGCCCUGCUAUGG...</td>\n",
       "    </tr>\n",
       "    <tr>\n",
       "      <th>60</th>\n",
       "      <td>hsa-let-7b</td>\n",
       "      <td>CGGGGUGAGGUAGUAGGUUGUGUGGUUUCAGGGCAGUGAUGUUGCC...</td>\n",
       "    </tr>\n",
       "    <tr>\n",
       "      <th>61</th>\n",
       "      <td>hsa-let-7c</td>\n",
       "      <td>GCAUCCGGGUUGAGGUAGUAGGUUGUAUGGUUUAGAGUUACACCCU...</td>\n",
       "    </tr>\n",
       "  </tbody>\n",
       "</table>\n",
       "</div>"
      ],
      "text/plain": [
       "      id_hairpin                                        seq_hairpin\n",
       "57  hsa-let-7a-1  UGGGAUGAGGUAGUAGGUUGUAUAGUUUUAGGGUCACACCCACCAC...\n",
       "58  hsa-let-7a-2  AGGUUGAGGUAGUAGGUUGUAUAGUUUAGAAUUACAUCAAGGGAGA...\n",
       "59  hsa-let-7a-3  GGGUGAGGUAGUAGGUUGUAUAGUUUGGGGCUCUGCCCUGCUAUGG...\n",
       "60    hsa-let-7b  CGGGGUGAGGUAGUAGGUUGUGUGGUUUCAGGGCAGUGAUGUUGCC...\n",
       "61    hsa-let-7c  GCAUCCGGGUUGAGGUAGUAGGUUGUAUGGUUUAGAGUUACACCCU..."
      ]
     },
     "execution_count": 91,
     "metadata": {},
     "output_type": "execute_result"
    }
   ],
   "source": [
    "hsa=hairpin[hairpin['id_hairpin'].str.contains(\"hsa\")]\n",
    "hsa.head()"
   ]
  },
  {
   "cell_type": "code",
   "execution_count": 92,
   "metadata": {},
   "outputs": [
    {
     "data": {
      "text/plain": [
       "57       UGGGAUGAGGUAGUAGGUUGUAUAGUUUUAGGGUCACACCCACCAC...\n",
       "58       AGGUUGAGGUAGUAGGUUGUAUAGUUUAGAAUUACAUCAAGGGAGA...\n",
       "59       GGGUGAGGUAGUAGGUUGUAUAGUUUGGGGCUCUGCCCUGCUAUGG...\n",
       "60       CGGGGUGAGGUAGUAGGUUGUGUGGUUUCAGGGCAGUGAUGUUGCC...\n",
       "61       GCAUCCGGGUUGAGGUAGUAGGUUGUAUGGUUUAGAGUUACACCCU...\n",
       "                               ...                        \n",
       "37307    UUAACAUCUUUUCCAUCAUAAUUCUCAUAGUAAUAAUAGUAAUGUU...\n",
       "37308    GAAGUGUACUUUUUAAUGGUGCCAAACAGCAGUUGAUCUAUAAUAA...\n",
       "37312    UGUGGAUAUUCUUUUUUGAUACUACAGCAAAACUCAGCAAGUUGUA...\n",
       "37313    GAAAAAGUCAUGGAGGCCAUGGGGUUGGCUUGAAACCAGCUUUGGG...\n",
       "38585    GCAGGGAAAGGGAACCCAGAAAUCUGGUAUGCCAGCAAAGAGAGUA...\n",
       "Name: seq_hairpin, Length: 1917, dtype: object"
      ]
     },
     "execution_count": 92,
     "metadata": {},
     "output_type": "execute_result"
    }
   ],
   "source": [
    "hsa['seq_hairpin']"
   ]
  },
  {
   "cell_type": "code",
   "execution_count": 93,
   "metadata": {},
   "outputs": [
    {
     "name": "stderr",
     "output_type": "stream",
     "text": [
      "/var/folders/91/plww02hn02dcgq2mr321qy9w0000gn/T/ipykernel_20628/491799193.py:1: SettingWithCopyWarning: \n",
      "A value is trying to be set on a copy of a slice from a DataFrame.\n",
      "Try using .loc[row_indexer,col_indexer] = value instead\n",
      "\n",
      "See the caveats in the documentation: https://pandas.pydata.org/pandas-docs/stable/user_guide/indexing.html#returning-a-view-versus-a-copy\n",
      "  hsa['words'] = hsa.apply(lambda x: getKmers(x['seq_hairpin'], 5), axis=1)\n"
     ]
    },
    {
     "data": {
      "text/html": [
       "<div>\n",
       "<style scoped>\n",
       "    .dataframe tbody tr th:only-of-type {\n",
       "        vertical-align: middle;\n",
       "    }\n",
       "\n",
       "    .dataframe tbody tr th {\n",
       "        vertical-align: top;\n",
       "    }\n",
       "\n",
       "    .dataframe thead th {\n",
       "        text-align: right;\n",
       "    }\n",
       "</style>\n",
       "<table border=\"1\" class=\"dataframe\">\n",
       "  <thead>\n",
       "    <tr style=\"text-align: right;\">\n",
       "      <th></th>\n",
       "      <th>id_hairpin</th>\n",
       "      <th>words</th>\n",
       "    </tr>\n",
       "  </thead>\n",
       "  <tbody>\n",
       "    <tr>\n",
       "      <th>57</th>\n",
       "      <td>hsa-let-7a-1</td>\n",
       "      <td>[uggga, gggau, ggaug, gauga, augag, ugagg, gag...</td>\n",
       "    </tr>\n",
       "    <tr>\n",
       "      <th>58</th>\n",
       "      <td>hsa-let-7a-2</td>\n",
       "      <td>[agguu, gguug, guuga, uugag, ugagg, gaggu, agg...</td>\n",
       "    </tr>\n",
       "    <tr>\n",
       "      <th>59</th>\n",
       "      <td>hsa-let-7a-3</td>\n",
       "      <td>[gggug, gguga, gugag, ugagg, gaggu, aggua, ggu...</td>\n",
       "    </tr>\n",
       "    <tr>\n",
       "      <th>60</th>\n",
       "      <td>hsa-let-7b</td>\n",
       "      <td>[cgggg, ggggu, gggug, gguga, gugag, ugagg, gag...</td>\n",
       "    </tr>\n",
       "    <tr>\n",
       "      <th>61</th>\n",
       "      <td>hsa-let-7c</td>\n",
       "      <td>[gcauc, caucc, auccg, uccgg, ccggg, cgggu, ggg...</td>\n",
       "    </tr>\n",
       "  </tbody>\n",
       "</table>\n",
       "</div>"
      ],
      "text/plain": [
       "      id_hairpin                                              words\n",
       "57  hsa-let-7a-1  [uggga, gggau, ggaug, gauga, augag, ugagg, gag...\n",
       "58  hsa-let-7a-2  [agguu, gguug, guuga, uugag, ugagg, gaggu, agg...\n",
       "59  hsa-let-7a-3  [gggug, gguga, gugag, ugagg, gaggu, aggua, ggu...\n",
       "60    hsa-let-7b  [cgggg, ggggu, gggug, gguga, gugag, ugagg, gag...\n",
       "61    hsa-let-7c  [gcauc, caucc, auccg, uccgg, ccggg, cgggu, ggg..."
      ]
     },
     "execution_count": 93,
     "metadata": {},
     "output_type": "execute_result"
    }
   ],
   "source": [
    "hsa['words'] = hsa.apply(lambda x: getKmers(x['seq_hairpin'], 5), axis=1)\n",
    "hsa = hsa.drop('seq_hairpin', axis=1)\n",
    "hsa.head()"
   ]
  },
  {
   "cell_type": "code",
   "execution_count": 94,
   "metadata": {},
   "outputs": [
    {
     "data": {
      "text/plain": [
       "'agguu gguug guuga uugag ugagg gaggu aggua gguag guagu uagua aguag guagg uaggu agguu gguug guugu uugua uguau guaua uauag auagu uaguu aguuu guuua uuuag uuaga uagaa agaau gaauu aauua auuac uuaca uacau acauc cauca aucaa ucaag caagg aaggg aggga gggag ggaga gagau agaua gauaa auaac uaacu aacug acugu cugua uguac guaca uacag acagc cagcc agccu gccuc ccucc cuccu uccua ccuag cuagc uagcu agcuu gcuuu cuuuc uuucc uuccu'"
      ]
     },
     "execution_count": 94,
     "metadata": {},
     "output_type": "execute_result"
    }
   ],
   "source": [
    "hsa_texts = list(hsa['words'])\n",
    "for item in range(len(hsa_texts)):\n",
    "    hsa_texts[item] = ' '.join(hsa_texts[item])\n",
    "hsa_texts[1]"
   ]
  },
  {
   "cell_type": "code",
   "execution_count": 95,
   "metadata": {},
   "outputs": [],
   "source": [
    "ngram_hsa = cv.transform(hsa_texts)"
   ]
  },
  {
   "cell_type": "code",
   "execution_count": 96,
   "metadata": {},
   "outputs": [],
   "source": [
    "predictions = ld_mdl.predict(ngram_hsa)"
   ]
  },
  {
   "cell_type": "code",
   "execution_count": 102,
   "metadata": {},
   "outputs": [
    {
     "name": "stdout",
     "output_type": "stream",
     "text": [
      "[[   0 1265]\n",
      " [   1  652]]\n"
     ]
    }
   ],
   "source": [
    "unique, counts = np.unique(predictions, return_counts=True)\n",
    "print(np.asarray((unique, counts)).T)"
   ]
  },
  {
   "cell_type": "code",
   "execution_count": 104,
   "metadata": {},
   "outputs": [
    {
     "data": {
      "text/html": [
       "<div>\n",
       "<style scoped>\n",
       "    .dataframe tbody tr th:only-of-type {\n",
       "        vertical-align: middle;\n",
       "    }\n",
       "\n",
       "    .dataframe tbody tr th {\n",
       "        vertical-align: top;\n",
       "    }\n",
       "\n",
       "    .dataframe thead th {\n",
       "        text-align: right;\n",
       "    }\n",
       "</style>\n",
       "<table border=\"1\" class=\"dataframe\">\n",
       "  <thead>\n",
       "    <tr style=\"text-align: right;\">\n",
       "      <th></th>\n",
       "      <th>id_hairpin</th>\n",
       "      <th>words</th>\n",
       "      <th>pred</th>\n",
       "    </tr>\n",
       "  </thead>\n",
       "  <tbody>\n",
       "    <tr>\n",
       "      <th>57</th>\n",
       "      <td>hsa-let-7a-1</td>\n",
       "      <td>[uggga, gggau, ggaug, gauga, augag, ugagg, gag...</td>\n",
       "      <td>0</td>\n",
       "    </tr>\n",
       "    <tr>\n",
       "      <th>58</th>\n",
       "      <td>hsa-let-7a-2</td>\n",
       "      <td>[agguu, gguug, guuga, uugag, ugagg, gaggu, agg...</td>\n",
       "      <td>0</td>\n",
       "    </tr>\n",
       "    <tr>\n",
       "      <th>59</th>\n",
       "      <td>hsa-let-7a-3</td>\n",
       "      <td>[gggug, gguga, gugag, ugagg, gaggu, aggua, ggu...</td>\n",
       "      <td>0</td>\n",
       "    </tr>\n",
       "    <tr>\n",
       "      <th>60</th>\n",
       "      <td>hsa-let-7b</td>\n",
       "      <td>[cgggg, ggggu, gggug, gguga, gugag, ugagg, gag...</td>\n",
       "      <td>0</td>\n",
       "    </tr>\n",
       "    <tr>\n",
       "      <th>61</th>\n",
       "      <td>hsa-let-7c</td>\n",
       "      <td>[gcauc, caucc, auccg, uccgg, ccggg, cgggu, ggg...</td>\n",
       "      <td>0</td>\n",
       "    </tr>\n",
       "  </tbody>\n",
       "</table>\n",
       "</div>"
      ],
      "text/plain": [
       "      id_hairpin                                              words  pred\n",
       "57  hsa-let-7a-1  [uggga, gggau, ggaug, gauga, augag, ugagg, gag...     0\n",
       "58  hsa-let-7a-2  [agguu, gguug, guuga, uugag, ugagg, gaggu, agg...     0\n",
       "59  hsa-let-7a-3  [gggug, gguga, gugag, ugagg, gaggu, aggua, ggu...     0\n",
       "60    hsa-let-7b  [cgggg, ggggu, gggug, gguga, gugag, ugagg, gag...     0\n",
       "61    hsa-let-7c  [gcauc, caucc, auccg, uccgg, ccggg, cgggu, ggg...     0"
      ]
     },
     "execution_count": 104,
     "metadata": {},
     "output_type": "execute_result"
    }
   ],
   "source": [
    "hsa['pred']=predictions\n",
    "hsa.head()"
   ]
  },
  {
   "cell_type": "code",
   "execution_count": 108,
   "metadata": {},
   "outputs": [],
   "source": [
    "id_emt=hsa[hsa.pred==1].id_hairpin"
   ]
  },
  {
   "cell_type": "code",
   "execution_count": 111,
   "metadata": {},
   "outputs": [],
   "source": [
    "id_emt.to_csv(\"id_emt.txt\", index=False)"
   ]
  },
  {
   "cell_type": "code",
   "execution_count": null,
   "metadata": {},
   "outputs": [],
   "source": []
  }
 ],
 "metadata": {
  "kernelspec": {
   "display_name": "Python 3 (ipykernel)",
   "language": "python",
   "name": "python3"
  },
  "language_info": {
   "codemirror_mode": {
    "name": "ipython",
    "version": 3
   },
   "file_extension": ".py",
   "mimetype": "text/x-python",
   "name": "python",
   "nbconvert_exporter": "python",
   "pygments_lexer": "ipython3",
   "version": "3.9.7"
  }
 },
 "nbformat": 4,
 "nbformat_minor": 4
}
